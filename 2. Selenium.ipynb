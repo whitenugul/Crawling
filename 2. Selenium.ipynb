{
 "cells": [
  {
   "cell_type": "markdown",
   "id": "7895f4ba",
   "metadata": {},
   "source": [
    "# 1. 셀레니움(Selenium)\n",
    "\n",
    "* 셀레니움(Selenium)은 브라우저를 컨트롤 할 수 있도록 지원하는 라이브러리이다."
   ]
  },
  {
   "cell_type": "code",
   "execution_count": 1,
   "id": "5f824ba3",
   "metadata": {},
   "outputs": [
    {
     "name": "stdout",
     "output_type": "stream",
     "text": [
      "Requirement already satisfied: selenium in c:\\users\\administrator\\appdata\\local\\programs\\python\\python38\\lib\\site-packages (4.8.3)\n",
      "Requirement already satisfied: trio~=0.17 in c:\\users\\administrator\\appdata\\local\\programs\\python\\python38\\lib\\site-packages (from selenium) (0.22.0)\n",
      "Requirement already satisfied: certifi>=2021.10.8 in c:\\users\\administrator\\appdata\\local\\programs\\python\\python38\\lib\\site-packages (from selenium) (2022.12.7)\n",
      "Requirement already satisfied: trio-websocket~=0.9 in c:\\users\\administrator\\appdata\\local\\programs\\python\\python38\\lib\\site-packages (from selenium) (0.10.2)\n",
      "Requirement already satisfied: urllib3[socks]~=1.26 in c:\\users\\administrator\\appdata\\local\\programs\\python\\python38\\lib\\site-packages (from selenium) (1.26.15)\n",
      "Requirement already satisfied: sniffio in c:\\users\\administrator\\appdata\\local\\programs\\python\\python38\\lib\\site-packages (from trio~=0.17->selenium) (1.3.0)\n",
      "Requirement already satisfied: async-generator>=1.9 in c:\\users\\administrator\\appdata\\local\\programs\\python\\python38\\lib\\site-packages (from trio~=0.17->selenium) (1.10)\n",
      "Requirement already satisfied: attrs>=19.2.0 in c:\\users\\administrator\\appdata\\local\\programs\\python\\python38\\lib\\site-packages (from trio~=0.17->selenium) (22.2.0)\n",
      "Requirement already satisfied: sortedcontainers in c:\\users\\administrator\\appdata\\local\\programs\\python\\python38\\lib\\site-packages (from trio~=0.17->selenium) (2.4.0)\n",
      "Requirement already satisfied: cffi>=1.14; os_name == \"nt\" and implementation_name != \"pypy\" in c:\\users\\administrator\\appdata\\local\\programs\\python\\python38\\lib\\site-packages (from trio~=0.17->selenium) (1.15.1)\n",
      "Requirement already satisfied: exceptiongroup>=1.0.0rc9; python_version < \"3.11\" in c:\\users\\administrator\\appdata\\local\\programs\\python\\python38\\lib\\site-packages (from trio~=0.17->selenium) (1.1.1)\n",
      "Requirement already satisfied: outcome in c:\\users\\administrator\\appdata\\local\\programs\\python\\python38\\lib\\site-packages (from trio~=0.17->selenium) (1.2.0)\n",
      "Requirement already satisfied: idna in c:\\users\\administrator\\appdata\\local\\programs\\python\\python38\\lib\\site-packages (from trio~=0.17->selenium) (3.4)\n",
      "Requirement already satisfied: wsproto>=0.14 in c:\\users\\administrator\\appdata\\local\\programs\\python\\python38\\lib\\site-packages (from trio-websocket~=0.9->selenium) (1.2.0)\n",
      "Requirement already satisfied: PySocks!=1.5.7,<2.0,>=1.5.6; extra == \"socks\" in c:\\users\\administrator\\appdata\\local\\programs\\python\\python38\\lib\\site-packages (from urllib3[socks]~=1.26->selenium) (1.7.1)\n",
      "Requirement already satisfied: pycparser in c:\\users\\administrator\\appdata\\local\\programs\\python\\python38\\lib\\site-packages (from cffi>=1.14; os_name == \"nt\" and implementation_name != \"pypy\"->trio~=0.17->selenium) (2.21)\n",
      "Requirement already satisfied: h11<1,>=0.9.0 in c:\\users\\administrator\\appdata\\local\\programs\\python\\python38\\lib\\site-packages (from wsproto>=0.14->trio-websocket~=0.9->selenium) (0.14.0)\n"
     ]
    },
    {
     "name": "stderr",
     "output_type": "stream",
     "text": [
      "WARNING: You are using pip version 20.2.1; however, version 23.1.2 is available.\n",
      "You should consider upgrading via the 'c:\\users\\administrator\\appdata\\local\\programs\\python\\python38\\python.exe -m pip install --upgrade pip' command.\n"
     ]
    }
   ],
   "source": [
    "!pip install selenium"
   ]
  },
  {
   "cell_type": "code",
   "execution_count": 2,
   "id": "9064d012",
   "metadata": {},
   "outputs": [
    {
     "name": "stdout",
     "output_type": "stream",
     "text": [
      "Requirement already satisfied: chromedriver_autoinstaller in c:\\users\\administrator\\appdata\\local\\programs\\python\\python38\\lib\\site-packages (0.4.0)\n"
     ]
    },
    {
     "name": "stderr",
     "output_type": "stream",
     "text": [
      "WARNING: You are using pip version 20.2.1; however, version 23.1.2 is available.\n",
      "You should consider upgrading via the 'c:\\users\\administrator\\appdata\\local\\programs\\python\\python38\\python.exe -m pip install --upgrade pip' command.\n"
     ]
    }
   ],
   "source": [
    "!pip install chromedriver_autoinstaller"
   ]
  },
  {
   "cell_type": "code",
   "execution_count": 1,
   "id": "28335bb9",
   "metadata": {},
   "outputs": [],
   "source": [
    "from selenium import webdriver\n",
    "from selenium.webdriver.common.keys import Keys"
   ]
  },
  {
   "cell_type": "code",
   "execution_count": 2,
   "id": "d808d594",
   "metadata": {},
   "outputs": [],
   "source": [
    "driver = webdriver.Chrome()"
   ]
  },
  {
   "cell_type": "code",
   "execution_count": 3,
   "id": "2e9fbfd5",
   "metadata": {},
   "outputs": [],
   "source": [
    "driver.get('https://www.google.com')\n",
    "# python 사이트로 바로 이동"
   ]
  },
  {
   "cell_type": "code",
   "execution_count": 4,
   "id": "d594ce26",
   "metadata": {},
   "outputs": [],
   "source": [
    "search = driver.find_element('name','q')"
   ]
  },
  {
   "cell_type": "code",
   "execution_count": 5,
   "id": "1bdb6215",
   "metadata": {},
   "outputs": [],
   "source": [
    "search.send_keys('날씨') # 검색창에 날씨가 쳐진다"
   ]
  },
  {
   "cell_type": "code",
   "execution_count": 6,
   "id": "3b3e1bf1",
   "metadata": {},
   "outputs": [],
   "source": [
    "search.send_keys(Keys.RETURN) # 엔터키를 누른다."
   ]
  },
  {
   "cell_type": "markdown",
   "id": "3990289f",
   "metadata": {},
   "source": [
    "# 2. 네이버 웹툰\n",
    "* https://comic.naver.com/webtoon/detail?titleId=695796&no=299"
   ]
  },
  {
   "cell_type": "code",
   "execution_count": 7,
   "id": "6b63e653",
   "metadata": {},
   "outputs": [],
   "source": [
    "driver = webdriver.Chrome()\n",
    "driver.get('https://comic.naver.com/webtoon/detail?titleId=695796&no=299')"
   ]
  },
  {
   "cell_type": "code",
   "execution_count": 8,
   "id": "6f075d32",
   "metadata": {},
   "outputs": [],
   "source": [
    "from bs4 import BeautifulSoup"
   ]
  },
  {
   "cell_type": "code",
   "execution_count": 9,
   "id": "5e7a2967",
   "metadata": {},
   "outputs": [],
   "source": [
    "soup = BeautifulSoup(driver.page_source) #page_source로 페이지를 저장할 수 있다."
   ]
  },
  {
   "cell_type": "code",
   "execution_count": 10,
   "id": "4e7a54c6",
   "metadata": {},
   "outputs": [
    {
     "name": "stdout",
     "output_type": "stream",
     "text": [
      "예?? 오이소박이씨가 동생분이셨다고요?? 이어폰 끼고 노래 튼 상태에서 눈물 좔좔 흘리면서 보는데... 형제끼리 천재시네,,!!!!\n",
      "저 초상화 최중길 팀장 아님?\n",
      "그래서 작가님..커플이시겠다..?\n",
      "오이소박이님이 혈육인거에 충격+ㄹㅇ 발로 그린 축전에 충격....발에 쥐 안나셨어요?ㅋㅋㅋㅋㅋㅋ\n",
      "ㅋㅋㅋㅋㅋㅋㅋㅋㅋㅋㅋㅋㅋㅋㅋㅋ 발가락으로 그리신거 너무 하찮게 그려진거 아닙니까...\n",
      "와.. 드디어 10월에 중길이 에피소드 볼 수 있군요..\n",
      "초반부터 왜 그렇게 자살을 혐오하고 위관팀을 극혐했는지 궁금했는데 드디어 그 이유를 알 수 있겠네요.\n",
      "\n",
      "작가님 푹 쉬다 오시고.. 준웅이는 그냥 쭉 계약직으로 남겨두세요!!\n",
      "\"인물의 외모가 매우 출중하여 화제가\"\n",
      "중간에 작가님 용안 뭥미너무 당황\n",
      "너무 아름다우셔서 당황\n",
      "하 마지막 사진 누가봐도 우리 최중길씨 아니냐고요 살아있을 때도 존잘이었네 다크서클도 없고\n",
      "둘다 축전 길게 써서 보내주는게 ㄹㅇ 개웃기네ㅋㅋㅋ\n",
      "아니ㅋㅋㅋㅋㅋㅋㅋㅋㅋ 232작가님이 밟고 올라가신 의자 바퀴달린 것 같은데 안 넘어지셨나요..\n",
      "진심 련이 전남편 이야기 다시봐도 너무 슬픔 내 최애 내용임자살 위험지수가 높은 사람들의 내일을 만드는게 내 일인 련이가 더 잘 보여서 좋았음 정작 자기자신은 그 내일이 없는 오늘이란 시간에 갇혀버려서 더 여운이 깊음 ㅜㅜ 언젠가 련이도 시간이 다시\n",
      "흐르길 \n",
      "와 이도현 레드라이트에 뜬거보고 철렁했는데 중길이까지 등장해버리면.. 10월까지 어떻게 기다리나요 작가님ㅠㅠㅠ 어디 안가고 여기 딱붙어있을테니까 건강 잘 회복하시고 돌아오세요..! 기다리고 있을게요😊\n",
      "232 작가님이 그린 초희 진짜 넘므 예쁘다......\n"
     ]
    }
   ],
   "source": [
    "comments = soup.findAll('span', {'class':'u_cbox_contents'})\n",
    "for comment in comments:\n",
    "    print(comment.text)"
   ]
  },
  {
   "cell_type": "code",
   "execution_count": 11,
   "id": "a45c76c6",
   "metadata": {},
   "outputs": [
    {
     "name": "stdout",
     "output_type": "stream",
     "text": [
      "******************* 베스트 댓글 *******************\n",
      "예?? 오이소박이씨가 동생분이셨다고요?? 이어폰 끼고 노래 튼 상태에서 눈물 좔좔 흘리면서 보는데... 형제끼리 천재시네,,!!!!\n",
      "------------------------------\n",
      "저 초상화 최중길 팀장 아님?\n",
      "------------------------------\n",
      "그래서 작가님..커플이시겠다..?\n",
      "------------------------------\n",
      "오이소박이님이 혈육인거에 충격+ㄹㅇ 발로 그린 축전에 충격....발에 쥐 안나셨어요?ㅋㅋㅋㅋㅋㅋ\n",
      "------------------------------\n",
      "ㅋㅋㅋㅋㅋㅋㅋㅋㅋㅋㅋㅋㅋㅋㅋㅋ 발가락으로 그리신거 너무 하찮게 그려진거 아닙니까...\n",
      "------------------------------\n",
      "와.. 드디어 10월에 중길이 에피소드 볼 수 있군요..\n",
      "초반부터 왜 그렇게 자살을 혐오하고 위관팀을 극혐했는지 궁금했는데 드디어 그 이유를 알 수 있겠네요.\n",
      "\n",
      "작가님 푹 쉬다 오시고.. 준웅이는 그냥 쭉 계약직으로 남겨두세요!!\n",
      "------------------------------\n",
      "\"인물의 외모가 매우 출중하여 화제가\"\n",
      "------------------------------\n",
      "중간에 작가님 용안 뭥미너무 당황\n",
      "너무 아름다우셔서 당황\n",
      "------------------------------\n",
      "하 마지막 사진 누가봐도 우리 최중길씨 아니냐고요 살아있을 때도 존잘이었네 다크서클도 없고\n",
      "------------------------------\n",
      "둘다 축전 길게 써서 보내주는게 ㄹㅇ 개웃기네ㅋㅋㅋ\n",
      "------------------------------\n",
      "아니ㅋㅋㅋㅋㅋㅋㅋㅋㅋ 232작가님이 밟고 올라가신 의자 바퀴달린 것 같은데 안 넘어지셨나요..\n",
      "------------------------------\n",
      "진심 련이 전남편 이야기 다시봐도 너무 슬픔 내 최애 내용임자살 위험지수가 높은 사람들의 내일을 만드는게 내 일인 련이가 더 잘 보여서 좋았음 정작 자기자신은 그 내일이 없는 오늘이란 시간에 갇혀버려서 더 여운이 깊음 ㅜㅜ 언젠가 련이도 시간이 다시\n",
      "흐르길\n",
      "------------------------------\n",
      "와 이도현 레드라이트에 뜬거보고 철렁했는데 중길이까지 등장해버리면.. 10월까지 어떻게 기다리나요 작가님ㅠㅠㅠ 어디 안가고 여기 딱붙어있을테니까 건강 잘 회복하시고 돌아오세요..! 기다리고 있을게요😊\n",
      "------------------------------\n",
      "232 작가님이 그린 초희 진짜 넘므 예쁘다......\n",
      "------------------------------\n"
     ]
    }
   ],
   "source": [
    "print('******************* 베스트 댓글 *******************')\n",
    "for i in range(len(comments)):\n",
    "    comment = comments[i].text.strip()\n",
    "    print(comment)\n",
    "    print('-' * 30)"
   ]
  },
  {
   "cell_type": "markdown",
   "id": "2539d69d",
   "metadata": {},
   "source": [
    "# XPATH란?\n",
    "* 기존의 컴퓨터 파일 시스템에서 사용하는 경로 표현식과 유사한 XML식의 경로 언어\n",
    "* /html/body/div[1]/div[5]/div/div/div[4]/div[1]/div[3]/div/div/div[8]/a/span[1]\n"
   ]
  },
  {
   "cell_type": "code",
   "execution_count": 12,
   "id": "1ddea353",
   "metadata": {},
   "outputs": [],
   "source": [
    "# '전체 댓글 더보기' 버튼 클릭해보기\n",
    "driver.find_element('xpath', '/html/body/div[1]/div[5]/div/div/div[4]/div[1]/div[3]/div/div/div[8]/a/span[1]').click()\n",
    "# xpath를 이용하여 버튼을 찾아 눌렀다."
   ]
  },
  {
   "cell_type": "code",
   "execution_count": 13,
   "id": "eeee5424",
   "metadata": {},
   "outputs": [],
   "source": [
    "soup = BeautifulSoup(driver.page_source)"
   ]
  },
  {
   "cell_type": "code",
   "execution_count": 14,
   "id": "882eb7a2",
   "metadata": {},
   "outputs": [
    {
     "name": "stdout",
     "output_type": "stream",
     "text": [
      "******************* 전체 댓글 *******************\n",
      "언재 다시그리나 했는됩 10월이라고엽?\n",
      "------------------------------\n",
      "라마 작가님 1화부터 쭉 지켜봐온 독자 입니다.내일 이라는 작품을 지켜봐오면서 정말 많이 울고 분노하기도 했었습니다.\n",
      "애피소드마다 느끼는 감정들도 다양했지만 그 속에서 배워가는 것들도 많았습니다.\n",
      "전에는 없는 돈 모아다가 매주 미리보기 쿠키 구울 정도로 열심히도 보고 했었는데 드라마 이후에는 저도 어른이 되고 바빠지기도 하면서 웹툰 자체를 잘 못볼때도 있었지만 그래도 몇주차씩 밀린 애피들 하나도 빠짐없이 꼭 챙겨보곤 했습니다. 물론 인생에서 살면서 정말 바쁜 순간 잠자기도 부족할때 드라마화가 됐어서 너무 피곤해도 야근이 있어도 드라마도 정말 꼬박꼬박 챙겨봤어요. 대학 팀플할때 내일 웹툰 애피소드로 팀플 한적도 있어요. 제가 정말 소중하게 느끼는 작품 중 하나입니다. 그래서 작가님이 시즌 2를 끝으로 생각하셨다는 말에 많이 놀랐습니다. 작가님 분량이 적어도, 늦어도 괜찮으니까 조금만, 조금만 더 연재해주세요. 작가님이 그리신 애피소드들이 세상에 조금씩 선한 영향을 미치는게 좋습니다.\n",
      "------------------------------\n",
      "......\n",
      "------------------------------\n",
      "많이 웃고 울던 웹툰입니다 얼른 돌아오셔서 다시 울려주세요\n",
      "------------------------------\n",
      "후기 웅이 초희 장면 몇화인지 아시는 분 ㅠㅠ\n",
      "------------------------------\n",
      "하루라도 빨리 보고 싶네요.음악이 동생님께서 하셨다니 완전 놀랐어요.그리고 연애혁명님과 친하시다니.꼭 봐야 되겠어요.이게 마지막을 향해 갓다니까 또 한편으로 마음 아프네여.평생 보고 싶은게 “내일”인데.저 10월달까지 기다리고 있겠습니다.\n",
      "------------------------------\n",
      "어머 이곳엔 나쁜글이 하나도 안보이네요. . . 처음 써보는건데..\n",
      "그림체가 처음보다 넘 성의 없어서 슬프지만 애정이 있어서 안 볼수가 없네요.\n",
      "작가님들 힘드신다는거 아니까 머라 할수가 없네요.\n",
      "오늘도 내일을 보며 울다 웃다 하다갑니다.\n",
      "잘 쉬시고 다음 시즌기다리고 있을께요.\n",
      "------------------------------\n",
      "진짜 저의 최애작품❤️ 작가님 사랑해요🫶\n",
      "------------------------------\n",
      "작가님 잘다녀오세요!마음에 스며드는 작품 정말 감사합니다!\n",
      "------------------------------\n",
      "제일 좋아하는 웹툰..기다리고 있겠습니다🫰🏻\n",
      "------------------------------\n",
      "당연히 기다립니다 흑흑 잘 쉬고 돌아오세요!!!\n",
      "------------------------------\n",
      "처음 적어봅니다  휴재 축하드리고 기다리겠습니다 늘 소장하고 싶은 웹툰이예요\n",
      "------------------------------\n",
      "최중길????\n",
      "------------------------------\n",
      "후기까지 꼼꼼히 다읽게되는 웹툰은 라마님 내일이 유일해요\n",
      "------------------------------\n",
      "아니...라마님 여자분이셨어요...???! 거기에 오이소박이님이 동생.....?????!! 와우...\n",
      "------------------------------\n"
     ]
    }
   ],
   "source": [
    "comments = soup.findAll('span', {'class':'u_cbox_contents'})\n",
    "print('******************* 전체 댓글 *******************')\n",
    "for i in range(len(comments)):\n",
    "    comment = comments[i].text.strip()\n",
    "    print(comment)\n",
    "    print('-' * 30)"
   ]
  },
  {
   "cell_type": "markdown",
   "id": "833266b6",
   "metadata": {},
   "source": [
    "# Instagram"
   ]
  },
  {
   "cell_type": "code",
   "execution_count": null,
   "id": "aeafc06d",
   "metadata": {},
   "outputs": [],
   "source": []
  }
 ],
 "metadata": {
  "kernelspec": {
   "display_name": "Python 3 (ipykernel)",
   "language": "python",
   "name": "python3"
  },
  "language_info": {
   "codemirror_mode": {
    "name": "ipython",
    "version": 3
   },
   "file_extension": ".py",
   "mimetype": "text/x-python",
   "name": "python",
   "nbconvert_exporter": "python",
   "pygments_lexer": "ipython3",
   "version": "3.8.6"
  }
 },
 "nbformat": 4,
 "nbformat_minor": 5
}
