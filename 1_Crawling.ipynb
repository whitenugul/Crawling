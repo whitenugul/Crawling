{
  "nbformat": 4,
  "nbformat_minor": 0,
  "metadata": {
    "colab": {
      "provenance": [],
      "authorship_tag": "ABX9TyNeRGLGT18dCNirYYGQE82G",
      "include_colab_link": true
    },
    "kernelspec": {
      "name": "python3",
      "display_name": "Python 3"
    },
    "language_info": {
      "name": "python"
    }
  },
  "cells": [
    {
      "cell_type": "markdown",
      "metadata": {
        "id": "view-in-github",
        "colab_type": "text"
      },
      "source": [
        "<a href=\"https://colab.research.google.com/github/whitenugul/Crawling/blob/main/1_Crawling.ipynb\" target=\"_parent\"><img src=\"https://colab.research.google.com/assets/colab-badge.svg\" alt=\"Open In Colab\"/></a>"
      ]
    },
    {
      "cell_type": "markdown",
      "source": [
        "* 크롤링(Crawling): 인터넷의 데이터를 활용하기 위해 정보들을 분석하고 활용할 수 있도록 수집하는 행위\n",
        "* 스크레이핑(Scraping): 크롤링 + 데이터를 추출해서 가공하는 최종 목표\n"
      ],
      "metadata": {
        "id": "6XNmt9qnSxkk"
      }
    },
    {
      "cell_type": "markdown",
      "source": [
        "# 1. Basic English Speaking"
      ],
      "metadata": {
        "id": "5iyYopCmUQ4r"
      }
    },
    {
      "cell_type": "code",
      "source": [
        "import requests\n",
        "from bs4 import BeautifulSoup # HTML / XML에서 parsing 할때 사용한다."
      ],
      "metadata": {
        "id": "lH6Jk7wSUquj"
      },
      "execution_count": 2,
      "outputs": []
    },
    {
      "cell_type": "code",
      "source": [
        "site = 'https://basicenglishspeaking.com/daily-english-conversation-topics/'\n",
        "\n",
        "request = requests.get(site) # get방식으로 site를 접속한다.\n",
        "print(request) # <Response [200]> : 제대로 접속한 것을 의미한다.\n",
        "# print(request.text)"
      ],
      "metadata": {
        "colab": {
          "base_uri": "https://localhost:8080/"
        },
        "id": "RWT-nB0aUz72",
        "outputId": "dcf6358d-ca61-43c9-cc63-e151c5189f19"
      },
      "execution_count": 5,
      "outputs": [
        {
          "output_type": "stream",
          "name": "stdout",
          "text": [
            "<Response [200]>\n"
          ]
        }
      ]
    },
    {
      "cell_type": "code",
      "source": [
        "soup = BeautifulSoup(request.text)"
      ],
      "metadata": {
        "id": "H_1rjemyVXlb"
      },
      "execution_count": 6,
      "outputs": []
    },
    {
      "cell_type": "code",
      "source": [
        "divs = soup.find('div', {'class':'thrv-columns'}) # find는 원하는 태그 1개만을 가져올 수 있다.\n",
        "# find(태그, {'class': '클래스이름'})\n",
        "print(divs)"
      ],
      "metadata": {
        "colab": {
          "base_uri": "https://localhost:8080/"
        },
        "id": "jaMnEO9KVr1f",
        "outputId": "2ed2810d-e61c-4726-d09b-9f55a259d1f5"
      },
      "execution_count": 7,
      "outputs": [
        {
          "output_type": "stream",
          "name": "stdout",
          "text": [
            "<div class=\"thrv_wrapper thrv-columns\" style=\"--tcb-col-el-width:792;\"><div class=\"tcb-flex-row tcb--cols--3\"><div class=\"tcb-flex-col\"><div class=\"tcb-col\"><div class=\"thrv_wrapper thrv_text_element\"><p>1. <a class=\"tve-froala\" href=\"https://basicenglishspeaking.com/family/\" style=\"outline: none;\">Family</a><br/>2. <a class=\"tve-froala\" href=\"https://basicenglishspeaking.com/restaurant/\" style=\"outline: none;\">Restaurant</a><br/>3. <a href=\"https://basicenglishspeaking.com/books/\">Books</a><br/>4. <a href=\"https://basicenglishspeaking.com/travel/\">Travel</a><br/>5. <a href=\"https://basicenglishspeaking.com/website/\">Website</a><br/>6. <a href=\"https://basicenglishspeaking.com/accident/\">Accident</a><br/>7. <a class=\"tve-froala\" href=\"https://basicenglishspeaking.com/childhood-memory/\" style=\"outline: none;\">Childhood memory</a><br/>8. <a class=\"tve-froala\" href=\"https://basicenglishspeaking.com/favorite-rooms/\" style=\"outline: none;\">Favorite rooms</a><br/>9. <a href=\"https://basicenglishspeaking.com/presents/\">Presents</a><br/>10. <a class=\"tve-froala\" href=\"https://basicenglishspeaking.com/historical-place/\" style=\"outline: none;\">Historical place</a><br/>11. <a class=\"tve-froala\" href=\"https://basicenglishspeaking.com/newspaper-magazine/\" style=\"outline: none;\">Newspaper/ Magazine</a><br/>12. <a href=\"https://basicenglishspeaking.com/an-event/\">A memorable event</a><br/>13. <a href=\"https://basicenglishspeaking.com/a-subject/\">A favorite subject</a><br/>14. <a href=\"https://basicenglishspeaking.com/a-museum/\">A museum</a><br/>15. <a href=\"https://basicenglishspeaking.com/a-movie/\">A favorite movie</a><br/>16. <a href=\"https://basicenglishspeaking.com/a-foreign-country/\">A foreign country</a><br/>17. <a href=\"https://basicenglishspeaking.com/parties/\">Parties</a><br/>18. <a href=\"https://basicenglishspeaking.com/a-teacher/\">A teacher</a><br/>19. <a href=\"https://basicenglishspeaking.com/a-friend/\">A friend</a><br/>20. <a href=\"https://basicenglishspeaking.com/a-hotel/\">A hotel</a><br/>21. <a href=\"https://basicenglishspeaking.com/a-letter/\">A letter</a><br/>22. <a href=\"https://basicenglishspeaking.com/hobbies/\">Hobbies</a><br/>23. <a href=\"https://basicenglishspeaking.com/music/\">Music</a><br/>24. <a href=\"https://basicenglishspeaking.com/shopping/\">Shopping</a><br/>25. <a href=\"https://basicenglishspeaking.com/holiday/\">Holiday</a></p></div></div></div><div class=\"tcb-flex-col\"><div class=\"tcb-col\"><div class=\"thrv_wrapper thrv_text_element\"><p>26. <a class=\"tve-froala\" href=\"https://basicenglishspeaking.com/animals/\" style=\"outline: none;\">Animals</a><br/>27. <a class=\"tve-froala\" href=\"https://basicenglishspeaking.com/a-practical-skill/\" style=\"outline: none;\">A practical skill</a><br/>28. <a href=\"https://basicenglishspeaking.com/sports/\">Sport</a><br/>29. <a href=\"https://basicenglishspeaking.com/a-school/\">A School</a><br/>30. <a href=\"https://basicenglishspeaking.com/festival/\">Festival</a><br/>31. <a href=\"https://basicenglishspeaking.com/food/\">Food</a><br/>32. <a href=\"https://basicenglishspeaking.com/household-appliance/\">Household appliance</a><br/>33. <a href=\"https://basicenglishspeaking.com/a-music-band/\">A music band</a><br/>34. <a href=\"https://basicenglishspeaking.com/weather/\">Weather</a><br/>35. <a href=\"https://basicenglishspeaking.com/neighbor/\">Neighbor</a><br/>36. <a href=\"https://basicenglishspeaking.com/natural-scenery/\">Natural scenery</a><br/>37. <a href=\"https://basicenglishspeaking.com/outdoor-activities/\">Outdoor activities</a><br/>38. <a href=\"https://basicenglishspeaking.com/law/\">Law</a><br/>39. <a href=\"https://basicenglishspeaking.com/pollution/\">Pollution</a><br/>40. <a href=\"https://basicenglishspeaking.com/traffic-jam/\">Traffic jam</a><br/>41. <a href=\"https://basicenglishspeaking.com/tv-program/\">TV program</a><br/>42. <a href=\"https://basicenglishspeaking.com/architecture-building/\">Architect/ Building</a><br/>43. <a href=\"https://basicenglishspeaking.com/electronic-media/\">Electronic Media</a><br/>44. <a href=\"https://basicenglishspeaking.com/job-career/\">Job/ Career</a><br/>45. <a href=\"https://basicenglishspeaking.com/competition-contest/\">Competition/ contest</a><br/>46. <a href=\"https://basicenglishspeaking.com/a-garden/\">A garden</a><br/>47. <a href=\"https://basicenglishspeaking.com/hometown/\">Hometown</a><br/>48. <a href=\"https://basicenglishspeaking.com/clothing/\">Clothing</a><br/>49. <a href=\"https://basicenglishspeaking.com/an-advertisement/\">Advertisement</a><br/>50. <a href=\"https://basicenglishspeaking.com/a-project/\">A project</a></p></div></div></div><div class=\"tcb-flex-col\"><div class=\"tcb-col\"><div class=\"thrv_wrapper thrv_text_element\"><p>51. <a href=\"https://basicenglishspeaking.com/a-wedding/\">A wedding</a><br/>52. <a href=\"https://basicenglishspeaking.com/a-coffee-shop/\">A Coffee shop</a><br/>53. <a href=\"https://basicenglishspeaking.com/culture/\">Culture</a><br/>54. <a href=\"https://basicenglishspeaking.com/transport/\">Transport</a><br/>55. <a href=\"https://basicenglishspeaking.com/politician/\">Politician</a><br/>56. <a href=\"https://basicenglishspeaking.com/communication/\">Communication</a><br/>57. <a href=\"https://basicenglishspeaking.com/business/\">Business</a><br/>58. <a href=\"https://basicenglishspeaking.com/computer/\">Computer</a><br/>59. <a href=\"https://basicenglishspeaking.com/exercise/\">Exercise</a><br/>60. <a href=\"https://basicenglishspeaking.com/goal-ambition/\">Goal/ ambition</a><br/>61. <a href=\"https://basicenglishspeaking.com/art/\">Art</a><br/>62. <a href=\"https://basicenglishspeaking.com/fashion/\">Fashion</a><br/>63. <a href=\"https://basicenglishspeaking.com/jewelry/\">Jewelry</a><br/>64. <a href=\"https://basicenglishspeaking.com/cosmetic/\">Cosmetic</a><br/>65. <a href=\"https://basicenglishspeaking.com/indoor-game/\">Indoor Game</a><br/>66. <a href=\"https://basicenglishspeaking.com/phone-conversation/\">Phone conversation</a><br/>67. <a href=\"https://basicenglishspeaking.com/learning-second-language/\">Learning A Second language</a><br/>68. <a href=\"https://basicenglishspeaking.com/a-creative-person/\">A Creative Person</a><br/>69. <a href=\"https://basicenglishspeaking.com/a-celebrity/\">A celebrity</a><br/>70. <a href=\"https://basicenglishspeaking.com/a-health-problem/\">A Health Problem</a><br/>71. <a href=\"https://basicenglishspeaking.com/technological-advancements/\">Technological advancements</a><br/>72. <a href=\"https://basicenglishspeaking.com/a-landmark/\">A Landmark</a><br/>73. <a href=\"https://basicenglishspeaking.com/handcraft-items/\">Handcraft Items</a><br/>74. <a href=\"https://basicenglishspeaking.com/plastic-surgery/\">Plastic Surgery</a><br/>75. <a href=\"https://basicenglishspeaking.com/success/\">Success</a></p></div></div></div></div></div>\n"
          ]
        }
      ]
    },
    {
      "cell_type": "code",
      "source": [
        "# links = divs.findAll('a', {'class': 'tve-froala'})\n",
        "# print(links)\n",
        "\n",
        "links = divs.findAll('a') #findAll로 divs 내에 있는 모든 a 태그를 가져옴\n",
        "print(links)"
      ],
      "metadata": {
        "colab": {
          "base_uri": "https://localhost:8080/"
        },
        "id": "vjJ8SWy0Xa-k",
        "outputId": "cbdd983a-9ca6-4307-eb0d-9da05606468b"
      },
      "execution_count": 10,
      "outputs": [
        {
          "output_type": "stream",
          "name": "stdout",
          "text": [
            "[<a class=\"tve-froala\" href=\"https://basicenglishspeaking.com/family/\" style=\"outline: none;\">Family</a>, <a class=\"tve-froala\" href=\"https://basicenglishspeaking.com/restaurant/\" style=\"outline: none;\">Restaurant</a>, <a href=\"https://basicenglishspeaking.com/books/\">Books</a>, <a href=\"https://basicenglishspeaking.com/travel/\">Travel</a>, <a href=\"https://basicenglishspeaking.com/website/\">Website</a>, <a href=\"https://basicenglishspeaking.com/accident/\">Accident</a>, <a class=\"tve-froala\" href=\"https://basicenglishspeaking.com/childhood-memory/\" style=\"outline: none;\">Childhood memory</a>, <a class=\"tve-froala\" href=\"https://basicenglishspeaking.com/favorite-rooms/\" style=\"outline: none;\">Favorite rooms</a>, <a href=\"https://basicenglishspeaking.com/presents/\">Presents</a>, <a class=\"tve-froala\" href=\"https://basicenglishspeaking.com/historical-place/\" style=\"outline: none;\">Historical place</a>, <a class=\"tve-froala\" href=\"https://basicenglishspeaking.com/newspaper-magazine/\" style=\"outline: none;\">Newspaper/ Magazine</a>, <a href=\"https://basicenglishspeaking.com/an-event/\">A memorable event</a>, <a href=\"https://basicenglishspeaking.com/a-subject/\">A favorite subject</a>, <a href=\"https://basicenglishspeaking.com/a-museum/\">A museum</a>, <a href=\"https://basicenglishspeaking.com/a-movie/\">A favorite movie</a>, <a href=\"https://basicenglishspeaking.com/a-foreign-country/\">A foreign country</a>, <a href=\"https://basicenglishspeaking.com/parties/\">Parties</a>, <a href=\"https://basicenglishspeaking.com/a-teacher/\">A teacher</a>, <a href=\"https://basicenglishspeaking.com/a-friend/\">A friend</a>, <a href=\"https://basicenglishspeaking.com/a-hotel/\">A hotel</a>, <a href=\"https://basicenglishspeaking.com/a-letter/\">A letter</a>, <a href=\"https://basicenglishspeaking.com/hobbies/\">Hobbies</a>, <a href=\"https://basicenglishspeaking.com/music/\">Music</a>, <a href=\"https://basicenglishspeaking.com/shopping/\">Shopping</a>, <a href=\"https://basicenglishspeaking.com/holiday/\">Holiday</a>, <a class=\"tve-froala\" href=\"https://basicenglishspeaking.com/animals/\" style=\"outline: none;\">Animals</a>, <a class=\"tve-froala\" href=\"https://basicenglishspeaking.com/a-practical-skill/\" style=\"outline: none;\">A practical skill</a>, <a href=\"https://basicenglishspeaking.com/sports/\">Sport</a>, <a href=\"https://basicenglishspeaking.com/a-school/\">A School</a>, <a href=\"https://basicenglishspeaking.com/festival/\">Festival</a>, <a href=\"https://basicenglishspeaking.com/food/\">Food</a>, <a href=\"https://basicenglishspeaking.com/household-appliance/\">Household appliance</a>, <a href=\"https://basicenglishspeaking.com/a-music-band/\">A music band</a>, <a href=\"https://basicenglishspeaking.com/weather/\">Weather</a>, <a href=\"https://basicenglishspeaking.com/neighbor/\">Neighbor</a>, <a href=\"https://basicenglishspeaking.com/natural-scenery/\">Natural scenery</a>, <a href=\"https://basicenglishspeaking.com/outdoor-activities/\">Outdoor activities</a>, <a href=\"https://basicenglishspeaking.com/law/\">Law</a>, <a href=\"https://basicenglishspeaking.com/pollution/\">Pollution</a>, <a href=\"https://basicenglishspeaking.com/traffic-jam/\">Traffic jam</a>, <a href=\"https://basicenglishspeaking.com/tv-program/\">TV program</a>, <a href=\"https://basicenglishspeaking.com/architecture-building/\">Architect/ Building</a>, <a href=\"https://basicenglishspeaking.com/electronic-media/\">Electronic Media</a>, <a href=\"https://basicenglishspeaking.com/job-career/\">Job/ Career</a>, <a href=\"https://basicenglishspeaking.com/competition-contest/\">Competition/ contest</a>, <a href=\"https://basicenglishspeaking.com/a-garden/\">A garden</a>, <a href=\"https://basicenglishspeaking.com/hometown/\">Hometown</a>, <a href=\"https://basicenglishspeaking.com/clothing/\">Clothing</a>, <a href=\"https://basicenglishspeaking.com/an-advertisement/\">Advertisement</a>, <a href=\"https://basicenglishspeaking.com/a-project/\">A project</a>, <a href=\"https://basicenglishspeaking.com/a-wedding/\">A wedding</a>, <a href=\"https://basicenglishspeaking.com/a-coffee-shop/\">A Coffee shop</a>, <a href=\"https://basicenglishspeaking.com/culture/\">Culture</a>, <a href=\"https://basicenglishspeaking.com/transport/\">Transport</a>, <a href=\"https://basicenglishspeaking.com/politician/\">Politician</a>, <a href=\"https://basicenglishspeaking.com/communication/\">Communication</a>, <a href=\"https://basicenglishspeaking.com/business/\">Business</a>, <a href=\"https://basicenglishspeaking.com/computer/\">Computer</a>, <a href=\"https://basicenglishspeaking.com/exercise/\">Exercise</a>, <a href=\"https://basicenglishspeaking.com/goal-ambition/\">Goal/ ambition</a>, <a href=\"https://basicenglishspeaking.com/art/\">Art</a>, <a href=\"https://basicenglishspeaking.com/fashion/\">Fashion</a>, <a href=\"https://basicenglishspeaking.com/jewelry/\">Jewelry</a>, <a href=\"https://basicenglishspeaking.com/cosmetic/\">Cosmetic</a>, <a href=\"https://basicenglishspeaking.com/indoor-game/\">Indoor Game</a>, <a href=\"https://basicenglishspeaking.com/phone-conversation/\">Phone conversation</a>, <a href=\"https://basicenglishspeaking.com/learning-second-language/\">Learning A Second language</a>, <a href=\"https://basicenglishspeaking.com/a-creative-person/\">A Creative Person</a>, <a href=\"https://basicenglishspeaking.com/a-celebrity/\">A celebrity</a>, <a href=\"https://basicenglishspeaking.com/a-health-problem/\">A Health Problem</a>, <a href=\"https://basicenglishspeaking.com/technological-advancements/\">Technological advancements</a>, <a href=\"https://basicenglishspeaking.com/a-landmark/\">A Landmark</a>, <a href=\"https://basicenglishspeaking.com/handcraft-items/\">Handcraft Items</a>, <a href=\"https://basicenglishspeaking.com/plastic-surgery/\">Plastic Surgery</a>, <a href=\"https://basicenglishspeaking.com/success/\">Success</a>]\n"
          ]
        }
      ]
    },
    {
      "cell_type": "code",
      "source": [
        "for link in links:\n",
        "  print(link.text) #link.text로 태그를 제외한 text만 보고 싶을때 사용한다."
      ],
      "metadata": {
        "colab": {
          "base_uri": "https://localhost:8080/"
        },
        "id": "izF3LtSnXx_8",
        "outputId": "ea2be2b3-af69-4f5b-f29f-e8cf87e3fd16"
      },
      "execution_count": 12,
      "outputs": [
        {
          "output_type": "stream",
          "name": "stdout",
          "text": [
            "Family\n",
            "Restaurant\n",
            "Books\n",
            "Travel\n",
            "Website\n",
            "Accident\n",
            "Childhood memory\n",
            "Favorite rooms\n",
            "Presents\n",
            "Historical place\n",
            "Newspaper/ Magazine\n",
            "A memorable event\n",
            "A favorite subject\n",
            "A museum\n",
            "A favorite movie\n",
            "A foreign country\n",
            "Parties\n",
            "A teacher\n",
            "A friend\n",
            "A hotel\n",
            "A letter\n",
            "Hobbies\n",
            "Music\n",
            "Shopping\n",
            "Holiday\n",
            "Animals\n",
            "A practical skill\n",
            "Sport\n",
            "A School\n",
            "Festival\n",
            "Food\n",
            "Household appliance\n",
            "A music band\n",
            "Weather\n",
            "Neighbor\n",
            "Natural scenery\n",
            "Outdoor activities\n",
            "Law\n",
            "Pollution\n",
            "Traffic jam\n",
            "TV program\n",
            "Architect/ Building\n",
            "Electronic Media\n",
            "Job/ Career\n",
            "Competition/ contest\n",
            "A garden\n",
            "Hometown\n",
            "Clothing\n",
            "Advertisement\n",
            "A project\n",
            "A wedding\n",
            "A Coffee shop\n",
            "Culture\n",
            "Transport\n",
            "Politician\n",
            "Communication\n",
            "Business\n",
            "Computer\n",
            "Exercise\n",
            "Goal/ ambition\n",
            "Art\n",
            "Fashion\n",
            "Jewelry\n",
            "Cosmetic\n",
            "Indoor Game\n",
            "Phone conversation\n",
            "Learning A Second language\n",
            "A Creative Person\n",
            "A celebrity\n",
            "A Health Problem\n",
            "Technological advancements\n",
            "A Landmark\n",
            "Handcraft Items\n",
            "Plastic Surgery\n",
            "Success\n"
          ]
        }
      ]
    },
    {
      "cell_type": "code",
      "source": [
        "subject = []\n",
        "\n",
        "for link in links:\n",
        "  subject.append(link.text)"
      ],
      "metadata": {
        "id": "aK6iIZOtYNTC"
      },
      "execution_count": 13,
      "outputs": []
    },
    {
      "cell_type": "code",
      "source": [
        "len(subject)"
      ],
      "metadata": {
        "colab": {
          "base_uri": "https://localhost:8080/"
        },
        "id": "0WBumn8dYekP",
        "outputId": "2a789cb4-1444-4742-cd9b-80a83b47f07f"
      },
      "execution_count": 14,
      "outputs": [
        {
          "output_type": "execute_result",
          "data": {
            "text/plain": [
              "75"
            ]
          },
          "metadata": {},
          "execution_count": 14
        }
      ]
    },
    {
      "cell_type": "code",
      "source": [
        "print('총', len(subject), '개의 주제를 찾았습니다.')\n",
        "for i in range(len(subject)):\n",
        "  print('{0:2d}. {1:s}'.format(i+1, subject[i]))"
      ],
      "metadata": {
        "colab": {
          "base_uri": "https://localhost:8080/"
        },
        "id": "ZsuooYwoYhu0",
        "outputId": "808dce96-dcca-42c6-9362-4cba5fde64a7"
      },
      "execution_count": 15,
      "outputs": [
        {
          "output_type": "stream",
          "name": "stdout",
          "text": [
            "총 75 개의 주제를 찾았습니다.\n",
            " 1. Family\n",
            " 2. Restaurant\n",
            " 3. Books\n",
            " 4. Travel\n",
            " 5. Website\n",
            " 6. Accident\n",
            " 7. Childhood memory\n",
            " 8. Favorite rooms\n",
            " 9. Presents\n",
            "10. Historical place\n",
            "11. Newspaper/ Magazine\n",
            "12. A memorable event\n",
            "13. A favorite subject\n",
            "14. A museum\n",
            "15. A favorite movie\n",
            "16. A foreign country\n",
            "17. Parties\n",
            "18. A teacher\n",
            "19. A friend\n",
            "20. A hotel\n",
            "21. A letter\n",
            "22. Hobbies\n",
            "23. Music\n",
            "24. Shopping\n",
            "25. Holiday\n",
            "26. Animals\n",
            "27. A practical skill\n",
            "28. Sport\n",
            "29. A School\n",
            "30. Festival\n",
            "31. Food\n",
            "32. Household appliance\n",
            "33. A music band\n",
            "34. Weather\n",
            "35. Neighbor\n",
            "36. Natural scenery\n",
            "37. Outdoor activities\n",
            "38. Law\n",
            "39. Pollution\n",
            "40. Traffic jam\n",
            "41. TV program\n",
            "42. Architect/ Building\n",
            "43. Electronic Media\n",
            "44. Job/ Career\n",
            "45. Competition/ contest\n",
            "46. A garden\n",
            "47. Hometown\n",
            "48. Clothing\n",
            "49. Advertisement\n",
            "50. A project\n",
            "51. A wedding\n",
            "52. A Coffee shop\n",
            "53. Culture\n",
            "54. Transport\n",
            "55. Politician\n",
            "56. Communication\n",
            "57. Business\n",
            "58. Computer\n",
            "59. Exercise\n",
            "60. Goal/ ambition\n",
            "61. Art\n",
            "62. Fashion\n",
            "63. Jewelry\n",
            "64. Cosmetic\n",
            "65. Indoor Game\n",
            "66. Phone conversation\n",
            "67. Learning A Second language\n",
            "68. A Creative Person\n",
            "69. A celebrity\n",
            "70. A Health Problem\n",
            "71. Technological advancements\n",
            "72. A Landmark\n",
            "73. Handcraft Items\n",
            "74. Plastic Surgery\n",
            "75. Success\n"
          ]
        }
      ]
    },
    {
      "cell_type": "markdown",
      "source": [
        "# 2. 다음 뉴스기사 제목 크롤링"
      ],
      "metadata": {
        "id": "UyigpCQrYwQg"
      }
    },
    {
      "cell_type": "code",
      "source": [
        "# https://v.daum.net/v/20230601093610464\n",
        "# https://v.daum.net/v/20230601072518640\n",
        "\n",
        "def daum_news_title(new_id):\n",
        "  url = 'https://v.daum.net/v/{}'.format(new_id)\n",
        "  request = requests.get(url)\n",
        "  soup = BeautifulSoup(request.text)\n",
        "  title = soup.find('h3', {'class': 'tit_view'})\n",
        "  if title:\n",
        "    return title.text.strip()\n",
        "  return '제목없음'\n"
      ],
      "metadata": {
        "id": "EwwEeGjTagHc"
      },
      "execution_count": 19,
      "outputs": []
    },
    {
      "cell_type": "code",
      "source": [
        "daum_news_title(20230601093610464)"
      ],
      "metadata": {
        "colab": {
          "base_uri": "https://localhost:8080/",
          "height": 35
        },
        "id": "DOiX9XtdcOqO",
        "outputId": "4163c069-8e1c-48c4-b72a-f8546ec5b0e4"
      },
      "execution_count": 20,
      "outputs": [
        {
          "output_type": "execute_result",
          "data": {
            "text/plain": [
              "'‘교사 출신’ 김재환, SK 코칭스태프 합류'"
            ],
            "application/vnd.google.colaboratory.intrinsic+json": {
              "type": "string"
            }
          },
          "metadata": {},
          "execution_count": 20
        }
      ]
    },
    {
      "cell_type": "code",
      "source": [
        "daum_news_title(20230601072518640)"
      ],
      "metadata": {
        "colab": {
          "base_uri": "https://localhost:8080/",
          "height": 35
        },
        "id": "TVyzHGqLcOvg",
        "outputId": "ee312678-0f1d-4c32-bdac-c0c84d23d028"
      },
      "execution_count": 21,
      "outputs": [
        {
          "output_type": "execute_result",
          "data": {
            "text/plain": [
              "\"'범죄도시3' 개봉 첫날 74만 동원 1위..122만으로 시작 '압도적 흥행'\""
            ],
            "application/vnd.google.colaboratory.intrinsic+json": {
              "type": "string"
            }
          },
          "metadata": {},
          "execution_count": 21
        }
      ]
    },
    {
      "cell_type": "markdown",
      "source": [
        "# 3. 벅스 음악 차트 크롤링"
      ],
      "metadata": {
        "id": "CioX-Gmmbp7B"
      }
    },
    {
      "cell_type": "code",
      "source": [
        "request = requests.get('https://music.bugs.co.kr/chart')\n",
        "soup = BeautifulSoup(request.text)"
      ],
      "metadata": {
        "id": "p3wHJPT6cKvh"
      },
      "execution_count": 22,
      "outputs": []
    },
    {
      "cell_type": "code",
      "source": [
        "titles = soup.findAll('p', {'class':'title'})\n",
        "artists = soup.findAll('p', {'class': 'artist'})\n",
        "\n",
        "print('벅스 차트')\n",
        "for i in range(len(titles)):\n",
        "  title = titles[i].text.strip()\n",
        "  artist = artists[i].text.strip().split('\\n')[0]\n",
        "  if((i+1) % 10 == 1):\n",
        "    print('\\n')\n",
        "  print('{0:3d}위 곡은 {1} - {2}'.format(i+1,artist, title))\n"
      ],
      "metadata": {
        "colab": {
          "base_uri": "https://localhost:8080/"
        },
        "id": "q_uuGfz5cjK6",
        "outputId": "da640cde-fd19-428d-9ea9-87106b2050cf"
      },
      "execution_count": 49,
      "outputs": [
        {
          "output_type": "stream",
          "name": "stdout",
          "text": [
            "벅스 차트\n",
            "\n",
            "\n",
            "  1위 곡은 (여자)아이들 - 퀸카 (Queencard)\n",
            "  2위 곡은 aespa - Spicy\n",
            "  3위 곡은 IVE (아이브) - I AM\n",
            "  4위 곡은 LE SSERAFIM (르세라핌) - UNFORGIVEN (feat. Nile Rodgers)\n",
            "  5위 곡은 IVE (아이브) - Kitsch\n",
            "  6위 곡은 LE SSERAFIM (르세라핌) - 이브, 프시케 그리고 푸른 수염의 아내\n",
            "  7위 곡은 세븐틴(SEVENTEEN) - 손오공\n",
            "  8위 곡은 FIFTY FIFTY - Cupid\n",
            "  9위 곡은 aespa - Thirsty\n",
            " 10위 곡은 NewJeans - Hype Boy\n",
            "\n",
            "\n",
            " 11위 곡은 NewJeans - Ditto\n",
            " 12위 곡은 이채연 - KNOCK\n",
            " 13위 곡은 지수(JISOO) - 꽃\n",
            " 14위 곡은 (여자)아이들 - Allergy\n",
            " 15위 곡은 NewJeans - OMG\n",
            " 16위 곡은 Charlie Puth(찰리 푸스) - Dangerously\n",
            " 17위 곡은 STAYC(스테이씨) - Teddy Bear\n",
            " 18위 곡은 IVE (아이브) - After LIKE\n",
            " 19위 곡은 NewJeans - Attention\n",
            " 20위 곡은 부석순(SEVENTEEN) - 파이팅 해야지 (Feat. 이영지)\n",
            "\n",
            "\n",
            " 21위 곡은 박재정 - 헤어지자 말해요\n",
            " 22위 곡은 윤하(Younha/ユンナ) - 사건의 지평선\n",
            " 23위 곡은 멜로망스(MeloMance) - 찬란한 하루\n",
            " 24위 곡은 H1-KEY (하이키) - 건물 사이에 피어난 장미 (Rose Blossom)\n",
            " 25위 곡은 Charlie Puth(찰리 푸스) - I Don’t Think That I Like Her\n",
            " 26위 곡은 IVE (아이브) - LOVE DIVE\n",
            " 27위 곡은 LE SSERAFIM (르세라핌) - ANTIFRAGILE\n",
            " 28위 곡은 NMIXX - Love Me Like This\n",
            " 29위 곡은 aespa - Salty & Sweet\n",
            " 30위 곡은 던 (DAWN) - 빛이 나는 너에게\n",
            "\n",
            "\n",
            " 31위 곡은 DK(디셈버) - 심(心)\n",
            " 32위 곡은 Charlie Puth(찰리 푸스) - That’s Not How This Works (feat. Dan + Shay)\n",
            " 33위 곡은 비투비 - 나의 바람 (Wind And Wish)\n",
            " 34위 곡은 FIFTY FIFTY - Cupid (Twin Ver.)\n",
            " 35위 곡은 DAY6 (데이식스) - 한 페이지가 될 수 있게\n",
            " 36위 곡은 태연 (TAEYEON) - INVU\n",
            " 37위 곡은 Christopher(크리스토퍼) - When I Get Old\n",
            " 38위 곡은 10CM - 부동의 첫사랑\n",
            " 39위 곡은 이무진 - 잠깐 시간 될까\n",
            " 40위 곡은 10CM - 그라데이션\n",
            "\n",
            "\n",
            " 41위 곡은 윤하(Younha/ユンナ) - 오르트구름\n",
            " 42위 곡은 멜로망스(MeloMance) - 사랑인가 봐\n",
            " 43위 곡은 폴킴(Paul Kim) - 한강에서 (Feat. BIG Naughty)\n",
            " 44위 곡은 BLACKPINK - Shut Down\n",
            " 45위 곡은 (여자)아이들 - TOMBOY\n",
            " 46위 곡은 지올팍(Zior Park) - CHRISTIAN\n",
            " 47위 곡은 임재현 - Heaven(2023)\n",
            " 48위 곡은 IVE (아이브) - ELEVEN\n",
            " 49위 곡은 허각 - 물론\n",
            " 50위 곡은 LE SSERAFIM (르세라핌) - FEARLESS\n",
            "\n",
            "\n",
            " 51위 곡은 Charlie Puth(찰리 푸스) - That's Hilarious\n",
            " 52위 곡은 NCT DREAM - Candy\n",
            " 53위 곡은 박재범 - Candy (Feat. Zion.T)\n",
            " 54위 곡은 BLACKPINK - Pink Venom\n",
            " 55위 곡은 성시경 - 너의 모든 순간\n",
            " 56위 곡은 볼빨간사춘기 - FRIEND THE END\n",
            " 57위 곡은 The Kid LAROI - STAY\n",
            " 58위 곡은 경서예지 - 다정히 내 이름을 부르면\n",
            " 59위 곡은 BIG Naughty (서동현) - 정이라고 하자 (Feat. 10CM)\n",
            " 60위 곡은 (여자)아이들 - Nxde\n",
            "\n",
            "\n",
            " 61위 곡은 STAYC(스테이씨) - Poppy (Korean Ver.)\n",
            " 62위 곡은 잔나비 - 주저하는 연인들을 위해\n",
            " 63위 곡은 aespa - 도깨비불 (Illusion)\n",
            " 64위 곡은 김민석 (멜로망스) - 취중고백\n",
            " 65위 곡은 폴킴(Paul Kim) - 모든 날, 모든 순간 (Every day, Every Moment)\n",
            " 66위 곡은 NewJeans - Cookie\n",
            " 67위 곡은 테이(Tei) - Monologue\n",
            " 68위 곡은 Crush - Rush Hour (Feat. j-hope of BTS)\n",
            " 69위 곡은 경서 - 나의 X에게\n",
            " 70위 곡은 아이유(IU) - strawberry moon\n",
            "\n",
            "\n",
            " 71위 곡은 Justin Bieber(저스틴 비버) - Off My Face\n",
            " 72위 곡은 NCT 도재정 - Perfume\n",
            " 73위 곡은 태양 - VIBE (feat. Jimin of BTS)\n",
            " 74위 곡은 방탄소년단 - Dynamite\n",
            " 75위 곡은 Sam Smith(샘 스미스) - Unholy\n",
            " 76위 곡은 지아(Zia) - 사랑..그게 뭔데\n",
            " 77위 곡은 카라(Kara) - WHEN I MOVE\n",
            " 78위 곡은 #안녕 - 해요 (2022)\n",
            " 79위 곡은 지코 (ZICO) - 새삥 (Prod. ZICO) (Feat. 호미들)\n",
            " 80위 곡은 우디(Woody) - Say I Love You\n",
            "\n",
            "\n",
            " 81위 곡은 주주 시크릿 - 밤이 무서워요 (Lonely Night)\n",
            " 82위 곡은 WSG워너비 (가야G) - 그때 그 순간 그대로 (그그그)\n",
            " 83위 곡은 태양 - 나의 마음에 (Seed)\n",
            " 84위 곡은 Red Velvet (레드벨벳) - Feel My Rhythm\n",
            " 85위 곡은 10CM - 딱 10CM만\n",
            " 86위 곡은 임영웅 - 사랑은 늘 도망가\n",
            " 87위 곡은 aespa - Welcome To MY World (Feat. nævis)\n",
            " 88위 곡은 주호 - 내가 아니라도\n",
            " 89위 곡은 이영지 - NOT SORRY (Feat. pH-1) (Prod. by Slom)\n",
            " 90위 곡은 BE'O (비오) - LOVE me\n",
            "\n",
            "\n",
            " 91위 곡은 aespa - I'm Unhappy\n",
            " 92위 곡은 V.O.S. - 안녕이라고 말하지마\n",
            " 93위 곡은 우디(Woody) - Nostalgia\n",
            " 94위 곡은 아이유(IU) - 드라마\n",
            " 95위 곡은 Charlie Puth(찰리 푸스) - Left and Right (Feat. Jung Kook of BTS)\n",
            " 96위 곡은 BIGBANG (빅뱅) - 봄여름가을겨울 (Still Life)\n",
            " 97위 곡은 세븐틴(SEVENTEEN) - F*ck My Life\n",
            " 98위 곡은 먼데이 키즈(Monday Kiz) - 이 세상 끝까지\n",
            " 99위 곡은 볼빨간사춘기 - Love story\n",
            "100위 곡은 경서 - 첫 키스에 내 심장은 120BPM\n"
          ]
        }
      ]
    },
    {
      "cell_type": "code",
      "source": [
        "titles = soup.findAll('p', {'class':'title'})\n",
        "artists = soup.findAll('p', {'class': 'artist'})\n",
        "\n",
        "title_list = []\n",
        "artist_list = []\n",
        "\n",
        "for title in titles:\n",
        "  title_list.append(title.text.strip())\n",
        "for artist in artists:\n",
        "  artist_list.append(artist.text.strip().split('\\n')[0])\n",
        "\n",
        "print('벅스 차트')\n",
        "i = 1\n",
        "for artist_title in zip(title_list, artist_list):\n",
        "  if i % 10 == 1:\n",
        "    print('\\n')\n",
        "  print('{0:3d}위 곡 {1} - {2}'.format(i, artist_title[0], artist_title[1]))\n",
        "  i += 1"
      ],
      "metadata": {
        "colab": {
          "base_uri": "https://localhost:8080/"
        },
        "id": "6YRSb_Hwdk_O",
        "outputId": "1311de1d-efb9-4d28-af99-b122e4b79e25"
      },
      "execution_count": 66,
      "outputs": [
        {
          "output_type": "stream",
          "name": "stdout",
          "text": [
            "벅스 차트\n",
            "\n",
            "\n",
            "  1위 곡 퀸카 (Queencard) - (여자)아이들\n",
            "  2위 곡 Spicy - aespa\n",
            "  3위 곡 I AM - IVE (아이브)\n",
            "  4위 곡 UNFORGIVEN (feat. Nile Rodgers) - LE SSERAFIM (르세라핌)\n",
            "  5위 곡 Kitsch - IVE (아이브)\n",
            "  6위 곡 이브, 프시케 그리고 푸른 수염의 아내 - LE SSERAFIM (르세라핌)\n",
            "  7위 곡 손오공 - 세븐틴(SEVENTEEN)\n",
            "  8위 곡 Cupid - FIFTY FIFTY\n",
            "  9위 곡 Thirsty - aespa\n",
            " 10위 곡 Hype Boy - NewJeans\n",
            "\n",
            "\n",
            " 11위 곡 Ditto - NewJeans\n",
            " 12위 곡 KNOCK - 이채연\n",
            " 13위 곡 꽃 - 지수(JISOO)\n",
            " 14위 곡 Allergy - (여자)아이들\n",
            " 15위 곡 OMG - NewJeans\n",
            " 16위 곡 Dangerously - Charlie Puth(찰리 푸스)\n",
            " 17위 곡 Teddy Bear - STAYC(스테이씨)\n",
            " 18위 곡 After LIKE - IVE (아이브)\n",
            " 19위 곡 Attention - NewJeans\n",
            " 20위 곡 파이팅 해야지 (Feat. 이영지) - 부석순(SEVENTEEN)\n",
            "\n",
            "\n",
            " 21위 곡 헤어지자 말해요 - 박재정\n",
            " 22위 곡 사건의 지평선 - 윤하(Younha/ユンナ)\n",
            " 23위 곡 찬란한 하루 - 멜로망스(MeloMance)\n",
            " 24위 곡 건물 사이에 피어난 장미 (Rose Blossom) - H1-KEY (하이키)\n",
            " 25위 곡 I Don’t Think That I Like Her - Charlie Puth(찰리 푸스)\n",
            " 26위 곡 LOVE DIVE - IVE (아이브)\n",
            " 27위 곡 ANTIFRAGILE - LE SSERAFIM (르세라핌)\n",
            " 28위 곡 Love Me Like This - NMIXX\n",
            " 29위 곡 Salty & Sweet - aespa\n",
            " 30위 곡 빛이 나는 너에게 - 던 (DAWN)\n",
            "\n",
            "\n",
            " 31위 곡 심(心) - DK(디셈버)\n",
            " 32위 곡 That’s Not How This Works (feat. Dan + Shay) - Charlie Puth(찰리 푸스)\n",
            " 33위 곡 나의 바람 (Wind And Wish) - 비투비\n",
            " 34위 곡 Cupid (Twin Ver.) - FIFTY FIFTY\n",
            " 35위 곡 한 페이지가 될 수 있게 - DAY6 (데이식스)\n",
            " 36위 곡 INVU - 태연 (TAEYEON)\n",
            " 37위 곡 When I Get Old - Christopher(크리스토퍼)\n",
            " 38위 곡 부동의 첫사랑 - 10CM\n",
            " 39위 곡 잠깐 시간 될까 - 이무진\n",
            " 40위 곡 그라데이션 - 10CM\n",
            "\n",
            "\n",
            " 41위 곡 오르트구름 - 윤하(Younha/ユンナ)\n",
            " 42위 곡 사랑인가 봐 - 멜로망스(MeloMance)\n",
            " 43위 곡 한강에서 (Feat. BIG Naughty) - 폴킴(Paul Kim)\n",
            " 44위 곡 Shut Down - BLACKPINK\n",
            " 45위 곡 TOMBOY - (여자)아이들\n",
            " 46위 곡 CHRISTIAN - 지올팍(Zior Park)\n",
            " 47위 곡 Heaven(2023) - 임재현\n",
            " 48위 곡 ELEVEN - IVE (아이브)\n",
            " 49위 곡 물론 - 허각\n",
            " 50위 곡 FEARLESS - LE SSERAFIM (르세라핌)\n",
            "\n",
            "\n",
            " 51위 곡 That's Hilarious - Charlie Puth(찰리 푸스)\n",
            " 52위 곡 Candy - NCT DREAM\n",
            " 53위 곡 Candy (Feat. Zion.T) - 박재범\n",
            " 54위 곡 Pink Venom - BLACKPINK\n",
            " 55위 곡 너의 모든 순간 - 성시경\n",
            " 56위 곡 FRIEND THE END - 볼빨간사춘기\n",
            " 57위 곡 STAY - The Kid LAROI\n",
            " 58위 곡 다정히 내 이름을 부르면 - 경서예지\n",
            " 59위 곡 정이라고 하자 (Feat. 10CM) - BIG Naughty (서동현)\n",
            " 60위 곡 Nxde - (여자)아이들\n",
            "\n",
            "\n",
            " 61위 곡 Poppy (Korean Ver.) - STAYC(스테이씨)\n",
            " 62위 곡 주저하는 연인들을 위해 - 잔나비\n",
            " 63위 곡 도깨비불 (Illusion) - aespa\n",
            " 64위 곡 취중고백 - 김민석 (멜로망스)\n",
            " 65위 곡 모든 날, 모든 순간 (Every day, Every Moment) - 폴킴(Paul Kim)\n",
            " 66위 곡 Cookie - NewJeans\n",
            " 67위 곡 Monologue - 테이(Tei)\n",
            " 68위 곡 Rush Hour (Feat. j-hope of BTS) - Crush\n",
            " 69위 곡 나의 X에게 - 경서\n",
            " 70위 곡 strawberry moon - 아이유(IU)\n",
            "\n",
            "\n",
            " 71위 곡 Off My Face - Justin Bieber(저스틴 비버)\n",
            " 72위 곡 Perfume - NCT 도재정\n",
            " 73위 곡 VIBE (feat. Jimin of BTS) - 태양\n",
            " 74위 곡 Dynamite - 방탄소년단\n",
            " 75위 곡 Unholy - Sam Smith(샘 스미스)\n",
            " 76위 곡 사랑..그게 뭔데 - 지아(Zia)\n",
            " 77위 곡 WHEN I MOVE - 카라(Kara)\n",
            " 78위 곡 해요 (2022) - #안녕\n",
            " 79위 곡 새삥 (Prod. ZICO) (Feat. 호미들) - 지코 (ZICO)\n",
            " 80위 곡 Say I Love You - 우디(Woody)\n",
            "\n",
            "\n",
            " 81위 곡 밤이 무서워요 (Lonely Night) - 주주 시크릿\n",
            " 82위 곡 그때 그 순간 그대로 (그그그) - WSG워너비 (가야G)\n",
            " 83위 곡 나의 마음에 (Seed) - 태양\n",
            " 84위 곡 Feel My Rhythm - Red Velvet (레드벨벳)\n",
            " 85위 곡 딱 10CM만 - 10CM\n",
            " 86위 곡 사랑은 늘 도망가 - 임영웅\n",
            " 87위 곡 Welcome To MY World (Feat. nævis) - aespa\n",
            " 88위 곡 내가 아니라도 - 주호\n",
            " 89위 곡 NOT SORRY (Feat. pH-1) (Prod. by Slom) - 이영지\n",
            " 90위 곡 LOVE me - BE'O (비오)\n",
            "\n",
            "\n",
            " 91위 곡 I'm Unhappy - aespa\n",
            " 92위 곡 안녕이라고 말하지마 - V.O.S.\n",
            " 93위 곡 Nostalgia - 우디(Woody)\n",
            " 94위 곡 드라마 - 아이유(IU)\n",
            " 95위 곡 Left and Right (Feat. Jung Kook of BTS) - Charlie Puth(찰리 푸스)\n",
            " 96위 곡 봄여름가을겨울 (Still Life) - BIGBANG (빅뱅)\n",
            " 97위 곡 F*ck My Life - 세븐틴(SEVENTEEN)\n",
            " 98위 곡 이 세상 끝까지 - 먼데이 키즈(Monday Kiz)\n",
            " 99위 곡 Love story - 볼빨간사춘기\n",
            "100위 곡 첫 키스에 내 심장은 120BPM - 경서\n"
          ]
        }
      ]
    },
    {
      "cell_type": "code",
      "source": [
        "for i, (t, a) in enumerate(zip(titles, artists)): # enumerate를 이용해서 index도 같이 추출할 수 있다.\n",
        "  title = t.text.strip()\n",
        "  artist = a.text.strip().split('\\n')[0]\n",
        "  if (i+1) % 10 == 1:\n",
        "    print('\\n')\n",
        "  print('{0:3d}위 곡 {1} - {2}'.format(i+1, artist, title))"
      ],
      "metadata": {
        "colab": {
          "base_uri": "https://localhost:8080/"
        },
        "id": "MaC4QExXiVt0",
        "outputId": "cb757f26-616c-4558-b702-5edd29cef013"
      },
      "execution_count": 71,
      "outputs": [
        {
          "output_type": "stream",
          "name": "stdout",
          "text": [
            "\n",
            "\n",
            "  1위 곡 (여자)아이들 - 퀸카 (Queencard)\n",
            "  2위 곡 aespa - Spicy\n",
            "  3위 곡 IVE (아이브) - I AM\n",
            "  4위 곡 LE SSERAFIM (르세라핌) - UNFORGIVEN (feat. Nile Rodgers)\n",
            "  5위 곡 IVE (아이브) - Kitsch\n",
            "  6위 곡 LE SSERAFIM (르세라핌) - 이브, 프시케 그리고 푸른 수염의 아내\n",
            "  7위 곡 세븐틴(SEVENTEEN) - 손오공\n",
            "  8위 곡 FIFTY FIFTY - Cupid\n",
            "  9위 곡 aespa - Thirsty\n",
            " 10위 곡 NewJeans - Hype Boy\n",
            "\n",
            "\n",
            " 11위 곡 NewJeans - Ditto\n",
            " 12위 곡 이채연 - KNOCK\n",
            " 13위 곡 지수(JISOO) - 꽃\n",
            " 14위 곡 (여자)아이들 - Allergy\n",
            " 15위 곡 NewJeans - OMG\n",
            " 16위 곡 Charlie Puth(찰리 푸스) - Dangerously\n",
            " 17위 곡 STAYC(스테이씨) - Teddy Bear\n",
            " 18위 곡 IVE (아이브) - After LIKE\n",
            " 19위 곡 NewJeans - Attention\n",
            " 20위 곡 부석순(SEVENTEEN) - 파이팅 해야지 (Feat. 이영지)\n",
            "\n",
            "\n",
            " 21위 곡 박재정 - 헤어지자 말해요\n",
            " 22위 곡 윤하(Younha/ユンナ) - 사건의 지평선\n",
            " 23위 곡 멜로망스(MeloMance) - 찬란한 하루\n",
            " 24위 곡 H1-KEY (하이키) - 건물 사이에 피어난 장미 (Rose Blossom)\n",
            " 25위 곡 Charlie Puth(찰리 푸스) - I Don’t Think That I Like Her\n",
            " 26위 곡 IVE (아이브) - LOVE DIVE\n",
            " 27위 곡 LE SSERAFIM (르세라핌) - ANTIFRAGILE\n",
            " 28위 곡 NMIXX - Love Me Like This\n",
            " 29위 곡 aespa - Salty & Sweet\n",
            " 30위 곡 던 (DAWN) - 빛이 나는 너에게\n",
            "\n",
            "\n",
            " 31위 곡 DK(디셈버) - 심(心)\n",
            " 32위 곡 Charlie Puth(찰리 푸스) - That’s Not How This Works (feat. Dan + Shay)\n",
            " 33위 곡 비투비 - 나의 바람 (Wind And Wish)\n",
            " 34위 곡 FIFTY FIFTY - Cupid (Twin Ver.)\n",
            " 35위 곡 DAY6 (데이식스) - 한 페이지가 될 수 있게\n",
            " 36위 곡 태연 (TAEYEON) - INVU\n",
            " 37위 곡 Christopher(크리스토퍼) - When I Get Old\n",
            " 38위 곡 10CM - 부동의 첫사랑\n",
            " 39위 곡 이무진 - 잠깐 시간 될까\n",
            " 40위 곡 10CM - 그라데이션\n",
            "\n",
            "\n",
            " 41위 곡 윤하(Younha/ユンナ) - 오르트구름\n",
            " 42위 곡 멜로망스(MeloMance) - 사랑인가 봐\n",
            " 43위 곡 폴킴(Paul Kim) - 한강에서 (Feat. BIG Naughty)\n",
            " 44위 곡 BLACKPINK - Shut Down\n",
            " 45위 곡 (여자)아이들 - TOMBOY\n",
            " 46위 곡 지올팍(Zior Park) - CHRISTIAN\n",
            " 47위 곡 임재현 - Heaven(2023)\n",
            " 48위 곡 IVE (아이브) - ELEVEN\n",
            " 49위 곡 허각 - 물론\n",
            " 50위 곡 LE SSERAFIM (르세라핌) - FEARLESS\n",
            "\n",
            "\n",
            " 51위 곡 Charlie Puth(찰리 푸스) - That's Hilarious\n",
            " 52위 곡 NCT DREAM - Candy\n",
            " 53위 곡 박재범 - Candy (Feat. Zion.T)\n",
            " 54위 곡 BLACKPINK - Pink Venom\n",
            " 55위 곡 성시경 - 너의 모든 순간\n",
            " 56위 곡 볼빨간사춘기 - FRIEND THE END\n",
            " 57위 곡 The Kid LAROI - STAY\n",
            " 58위 곡 경서예지 - 다정히 내 이름을 부르면\n",
            " 59위 곡 BIG Naughty (서동현) - 정이라고 하자 (Feat. 10CM)\n",
            " 60위 곡 (여자)아이들 - Nxde\n",
            "\n",
            "\n",
            " 61위 곡 STAYC(스테이씨) - Poppy (Korean Ver.)\n",
            " 62위 곡 잔나비 - 주저하는 연인들을 위해\n",
            " 63위 곡 aespa - 도깨비불 (Illusion)\n",
            " 64위 곡 김민석 (멜로망스) - 취중고백\n",
            " 65위 곡 폴킴(Paul Kim) - 모든 날, 모든 순간 (Every day, Every Moment)\n",
            " 66위 곡 NewJeans - Cookie\n",
            " 67위 곡 테이(Tei) - Monologue\n",
            " 68위 곡 Crush - Rush Hour (Feat. j-hope of BTS)\n",
            " 69위 곡 경서 - 나의 X에게\n",
            " 70위 곡 아이유(IU) - strawberry moon\n",
            "\n",
            "\n",
            " 71위 곡 Justin Bieber(저스틴 비버) - Off My Face\n",
            " 72위 곡 NCT 도재정 - Perfume\n",
            " 73위 곡 태양 - VIBE (feat. Jimin of BTS)\n",
            " 74위 곡 방탄소년단 - Dynamite\n",
            " 75위 곡 Sam Smith(샘 스미스) - Unholy\n",
            " 76위 곡 지아(Zia) - 사랑..그게 뭔데\n",
            " 77위 곡 카라(Kara) - WHEN I MOVE\n",
            " 78위 곡 #안녕 - 해요 (2022)\n",
            " 79위 곡 지코 (ZICO) - 새삥 (Prod. ZICO) (Feat. 호미들)\n",
            " 80위 곡 우디(Woody) - Say I Love You\n",
            "\n",
            "\n",
            " 81위 곡 주주 시크릿 - 밤이 무서워요 (Lonely Night)\n",
            " 82위 곡 WSG워너비 (가야G) - 그때 그 순간 그대로 (그그그)\n",
            " 83위 곡 태양 - 나의 마음에 (Seed)\n",
            " 84위 곡 Red Velvet (레드벨벳) - Feel My Rhythm\n",
            " 85위 곡 10CM - 딱 10CM만\n",
            " 86위 곡 임영웅 - 사랑은 늘 도망가\n",
            " 87위 곡 aespa - Welcome To MY World (Feat. nævis)\n",
            " 88위 곡 주호 - 내가 아니라도\n",
            " 89위 곡 이영지 - NOT SORRY (Feat. pH-1) (Prod. by Slom)\n",
            " 90위 곡 BE'O (비오) - LOVE me\n",
            "\n",
            "\n",
            " 91위 곡 aespa - I'm Unhappy\n",
            " 92위 곡 V.O.S. - 안녕이라고 말하지마\n",
            " 93위 곡 우디(Woody) - Nostalgia\n",
            " 94위 곡 아이유(IU) - 드라마\n",
            " 95위 곡 Charlie Puth(찰리 푸스) - Left and Right (Feat. Jung Kook of BTS)\n",
            " 96위 곡 BIGBANG (빅뱅) - 봄여름가을겨울 (Still Life)\n",
            " 97위 곡 세븐틴(SEVENTEEN) - F*ck My Life\n",
            " 98위 곡 먼데이 키즈(Monday Kiz) - 이 세상 끝까지\n",
            " 99위 곡 볼빨간사춘기 - Love story\n",
            "100위 곡 경서 - 첫 키스에 내 심장은 120BPM\n"
          ]
        }
      ]
    },
    {
      "cell_type": "markdown",
      "source": [
        "# 3. 멜론 차트\n",
        "* robots.txt: 웹 사이트에 크롤러 같은 로봇들의 접근을 제어하기 위한 규약을 적어놓은 파일. 권고안이라 꼭 지킬 의무는 없음"
      ],
      "metadata": {
        "id": "_3gyCnHnkqfA"
      }
    },
    {
      "cell_type": "code",
      "source": [
        "request = requests.get('https://www.melon.com/chart/index.htm')\n",
        "print(request) # <Response [406]> => 406: 접속 불가"
      ],
      "metadata": {
        "colab": {
          "base_uri": "https://localhost:8080/"
        },
        "id": "rO1LJhI_lACI",
        "outputId": "9a1ddcd2-e8d3-4b55-e718-403f1847a915"
      },
      "execution_count": 78,
      "outputs": [
        {
          "output_type": "stream",
          "name": "stdout",
          "text": [
            "<Response [406]>\n"
          ]
        }
      ]
    },
    {
      "cell_type": "code",
      "source": [
        "# User-Agent:\n",
        "# Mozilla/5.0 (Windows NT 10.0; Win64; x64) AppleWebKit/537.36 (KHTML, like Gecko) Chrome/113.0.0.0 Safari/537.36\n",
        "header = {'User-Agent': 'Mozilla/5.0 (Windows NT 10.0; Win64; x64)'}\n",
        "request = requests.get('https://www.melon.com/chart/index.htm', headers = header)\n",
        "print(request) # <Response [200]>"
      ],
      "metadata": {
        "colab": {
          "base_uri": "https://localhost:8080/"
        },
        "id": "F8TrTzq9lmSe",
        "outputId": "0b14e9d6-5de8-4289-b6da-b6798754fed9"
      },
      "execution_count": 79,
      "outputs": [
        {
          "output_type": "stream",
          "name": "stdout",
          "text": [
            "<Response [200]>\n"
          ]
        }
      ]
    },
    {
      "cell_type": "code",
      "source": [
        "soup = BeautifulSoup(request.text)"
      ],
      "metadata": {
        "id": "KDZ2kSvZoLPi"
      },
      "execution_count": 80,
      "outputs": []
    },
    {
      "cell_type": "code",
      "source": [
        "titles = soup.findAll('div', {'class':'rank01'})\n",
        "artists = soup.findAll('span', {'class': 'checkEllipsis'})\n",
        "# for title in titles:\n",
        "#   print(title.text.strip())\n",
        "\n",
        "# for artist in artists:\n",
        "#   print(artist.text.strip())\n",
        "\n",
        "print('멜론차트')\n",
        "for i, (t, a) in enumerate(zip(titles, artists)): # enumerate를 이용해서 index도 같이 추출할 수 있다.\n",
        "  title = t.text.strip()\n",
        "  artist = a.text.strip()\n",
        "  if (((i+1) % 10 == 1) & (i+1 != 1)):\n",
        "    print('\\n')\n",
        "  print('{0:3d}위 곡 {1} - {2}'.format(i+1, artist, title))"
      ],
      "metadata": {
        "colab": {
          "base_uri": "https://localhost:8080/"
        },
        "id": "Q3P9oqGyoOfS",
        "outputId": "2fe63a2a-2bb3-46d6-f029-d25edfd6d7ca"
      },
      "execution_count": 93,
      "outputs": [
        {
          "output_type": "stream",
          "name": "stdout",
          "text": [
            "멜론차트\n",
            "  1위 곡 (여자)아이들 - 퀸카 (Queencard)\n",
            "  2위 곡 aespa - Spicy\n",
            "  3위 곡 IVE (아이브) - I AM\n",
            "  4위 곡 LE SSERAFIM (르세라핌) - UNFORGIVEN (feat. Nile Rodgers)\n",
            "  5위 곡 IVE (아이브) - Kitsch\n",
            "  6위 곡 세븐틴 (SEVENTEEN) - 손오공\n",
            "  7위 곡 지수 (JISOO) - 꽃\n",
            "  8위 곡 NewJeans - Hype boy\n",
            "  9위 곡 임영웅 - 사랑은 늘 도망가\n",
            " 10위 곡 (여자)아이들 - Allergy\n",
            "\n",
            "\n",
            " 11위 곡 NewJeans - Ditto\n",
            " 12위 곡 허각 - 물론\n",
            " 13위 곡 FIFTY FIFTY - Cupid\n",
            " 14위 곡 임영웅 - 우리들의 블루스\n",
            " 15위 곡 지아 - 사랑..그게 뭔데\n",
            " 16위 곡 박재정 - 헤어지자 말해요\n",
            " 17위 곡 임영웅 - 다시 만날 수 있을까\n",
            " 18위 곡 부석순 (SEVENTEEN) - 파이팅 해야지 (Feat. 이영지)\n",
            " 19위 곡 LE SSERAFIM (르세라핌) - 이브, 프시케 그리고 푸른 수염의 아내\n",
            " 20위 곡 임영웅 - London Boy\n",
            "\n",
            "\n",
            " 21위 곡 임영웅 - Polaroid\n",
            " 22위 곡 임영웅 - 이제 나만 믿어요\n",
            " 23위 곡 이무진 - 잠깐 시간 될까\n",
            " 24위 곡 임영웅 - 무지개\n",
            " 25위 곡 NewJeans - OMG\n",
            " 26위 곡 임영웅 - 아버지\n",
            " 27위 곡 aespa - Thirsty\n",
            " 28위 곡 윤하 (YOUNHA) - 사건의 지평선\n",
            " 29위 곡 STAYC(스테이씨) - Teddy Bear\n",
            " 30위 곡 임영웅 - 인생찬가\n",
            "\n",
            "\n",
            " 31위 곡 임영웅 - A bientot\n",
            " 32위 곡 Charlie Puth - Dangerously\n",
            " 33위 곡 임영웅 - 손이 참 곱던 그대\n",
            " 34위 곡 임재현 - Heaven(2023)\n",
            " 35위 곡 임영웅 - 사랑해 진짜\n",
            " 36위 곡 DK(디셈버) - 심(心)\n",
            " 37위 곡 Charlie Puth - I Don't Think That I Like Her\n",
            " 38위 곡 임영웅 - 연애편지\n",
            " 39위 곡 IVE (아이브) - After LIKE\n",
            " 40위 곡 비투비 - 나의 바람 (Wind And Wish)\n",
            "\n",
            "\n",
            " 41위 곡 임영웅 - 보금자리\n",
            " 42위 곡 10CM - 부동의 첫사랑\n",
            " 43위 곡 던 (DAWN) - 빛이 나는 너에게\n",
            " 44위 곡 멜로망스 - 찬란한 하루\n",
            " 45위 곡 imase - NIGHT DANCER\n",
            " 46위 곡 NewJeans - Attention\n",
            " 47위 곡 IVE (아이브) - LOVE DIVE\n",
            " 48위 곡 LE SSERAFIM (르세라핌) - ANTIFRAGILE\n",
            " 49위 곡 V.O.S - 안녕이라고 말하지마\n",
            " 50위 곡 Agust D - 사람 Pt.2 (feat. 아이유)\n",
            "\n",
            "\n",
            " 51위 곡 방탄소년단 - The Planet\n",
            " 52위 곡 지민 - Like Crazy\n",
            " 53위 곡 볼빨간사춘기 - FRIEND THE END\n",
            " 54위 곡 방탄소년단 - Dynamite\n",
            " 55위 곡 멜로망스 - 사랑인가 봐\n",
            " 56위 곡 이채연 - KNOCK\n",
            " 57위 곡 Zior Park - CHRISTIAN\n",
            " 58위 곡 aespa - Salty & Sweet\n",
            " 59위 곡 폴킴 - 한강에서 (Feat. BIG Naughty)\n",
            " 60위 곡 지민 - Angel Pt. 1 (Feat. Kodak Black, NLE Choppa, JVKE, Muni Long)\n",
            "\n",
            "\n",
            " 61위 곡 이홍기 (FT아일랜드) - 한사람만 (2023) (여름날 우리 X 이홍기 (FT아일랜드))\n",
            " 62위 곡 방탄소년단 - 봄날\n",
            " 63위 곡 성시경 - 너의 모든 순간\n",
            " 64위 곡 NMIXX - Love Me Like This\n",
            " 65위 곡 방탄소년단 - Butter\n",
            " 66위 곡 지아 - 사랑하기 싫어\n",
            " 67위 곡 (여자)아이들 - Nxde\n",
            " 68위 곡 (여자)아이들 - TOMBOY\n",
            " 69위 곡 H1-KEY (하이키) - 건물 사이에 피어난 장미 (Rose Blossom)\n",
            " 70위 곡 임한별 - 사랑하지 않아서 그랬어\n",
            "\n",
            "\n",
            " 71위 곡 방탄소년단 - Permission to Dance\n",
            " 72위 곡 규현 (KYUHYUN), 정은지 - 우리 사랑 이대로 (여름날 우리 X 규현 (KYUHYUN), 정은지)\n",
            " 73위 곡 세븐틴 (SEVENTEEN) - F*ck My Life\n",
            " 74위 곡 Charlie Puth - That's Hilarious\n",
            " 75위 곡 #안녕 - 해요 (2022)\n",
            " 76위 곡 김호중 - 그중에 그대를 만나\n",
            " 77위 곡 김민석 (멜로망스) - 취중고백\n",
            " 78위 곡 테이 - Monologue\n",
            " 79위 곡 The Kid LAROI, Justin Bieber - STAY\n",
            " 80위 곡 NCT DREAM - Candy\n",
            "\n",
            "\n",
            " 81위 곡 정국, 방탄소년단 - Dreamers [Music from the FIFA World Cup Qatar 2022 Official Soundtrack] (Feat. FIFA Sound)\n",
            " 82위 곡 10CM - 그라데이션\n",
            " 83위 곡 j-hope, J. Cole - on the street (with J. Cole)\n",
            " 84위 곡 경서 - 첫 키스에 내 심장은 120BPM\n",
            " 85위 곡 Charlie Puth - That’s Not How This Works (feat. Dan + Shay)\n",
            " 86위 곡 BLACKPINK - Shut Down\n",
            " 87위 곡 우디 (Woody) - Nostalgia\n",
            " 88위 곡 IVE (아이브) - ELEVEN\n",
            " 89위 곡 우디 (Woody) - Say I Love You\n",
            " 90위 곡 BIG Naughty (서동현) - 정이라고 하자 (Feat. 10CM)\n",
            "\n",
            "\n",
            " 91위 곡 DK(디셈버) - 발걸음\n",
            " 92위 곡 LE SSERAFIM (르세라핌) - FEARLESS\n",
            " 93위 곡 경서예지, 전건호 - 다정히 내 이름을 부르면\n",
            " 94위 곡 주호 - 내가 아니라도\n",
            " 95위 곡 김호중, 송가인 - 당신을 만나\n",
            " 96위 곡 BLACKPINK - Pink Venom\n",
            " 97위 곡 지코 (ZICO) - 새삥 (Prod. ZICO) (Feat. 호미들)\n",
            " 98위 곡 윤하 (YOUNHA) - 오르트구름\n",
            " 99위 곡 WSG워너비 (가야G) - 그때 그 순간 그대로 (그그그)\n",
            "100위 곡 태양 - VIBE (feat. Jimin of BTS)\n"
          ]
        }
      ]
    },
    {
      "cell_type": "markdown",
      "source": [
        "# 5. 네이버 주식"
      ],
      "metadata": {
        "id": "cWPWwOQZob1y"
      }
    },
    {
      "cell_type": "code",
      "source": [
        "# https://finance.naver.com/item/main.naver?code=005930"
      ],
      "metadata": {
        "id": "VUJt2mtZuoBU"
      },
      "execution_count": 94,
      "outputs": []
    },
    {
      "cell_type": "code",
      "source": [
        "site = 'https://finance.naver.com/item/main.naver?code=005930'\n",
        "request = requests.get(site)\n",
        "print(request) # <Response [200]>"
      ],
      "metadata": {
        "colab": {
          "base_uri": "https://localhost:8080/"
        },
        "id": "DNLUUhJEu8kZ",
        "outputId": "e4e7c3dd-69ed-4834-e7af-8cc9add4f586"
      },
      "execution_count": 122,
      "outputs": [
        {
          "output_type": "stream",
          "name": "stdout",
          "text": [
            "<Response [200]>\n"
          ]
        }
      ]
    },
    {
      "cell_type": "code",
      "source": [
        "soup = BeautifulSoup(request.text)"
      ],
      "metadata": {
        "id": "ZZQhpdgzvEe_"
      },
      "execution_count": 123,
      "outputs": []
    },
    {
      "cell_type": "code",
      "source": [
        "div_today = soup.find('div', {'class':'today'})\n",
        "print(div_today)"
      ],
      "metadata": {
        "colab": {
          "base_uri": "https://localhost:8080/"
        },
        "id": "XIhpoAQovYuc",
        "outputId": "409ad936-a472-4484-9f8b-f9d6d9c19970"
      },
      "execution_count": 124,
      "outputs": [
        {
          "output_type": "stream",
          "name": "stdout",
          "text": [
            "<div class=\"today\">\n",
            "<p class=\"no_today\">\n",
            "<em class=\"no_down\">\n",
            "<span class=\"blind\">70,700</span>\n",
            "<span class=\"no7\">7</span><span class=\"no0\">0</span><span class=\"shim\">,</span><span class=\"no7\">7</span><span class=\"no0\">0</span><span class=\"no0\">0</span>\n",
            "</em>\n",
            "</p>\n",
            "<p class=\"no_exday\">\n",
            "<span class=\"sptxt sp_txt1\">전일대비</span>\n",
            "<em class=\"no_down\">\n",
            "<span class=\"ico down\">하락</span>\n",
            "<span class=\"blind\">700</span>\n",
            "<span class=\"no7\">7</span><span class=\"no0\">0</span><span class=\"no0\">0</span>\n",
            "</em>\n",
            "<span class=\"bar\">l</span>\n",
            "<em class=\"no_down\">\n",
            "<span class=\"ico minus\">-</span>\n",
            "<span class=\"blind\">0.98</span>\n",
            "<span class=\"no0\">0</span><span class=\"jum\">.</span><span class=\"no9\">9</span><span class=\"no8\">8</span>\n",
            "<span class=\"per\">%</span>\n",
            "</em>\n",
            "</p>\n",
            "</div>\n"
          ]
        }
      ]
    },
    {
      "cell_type": "code",
      "source": [
        "em = div_today.find('em')\n",
        "print(em)"
      ],
      "metadata": {
        "colab": {
          "base_uri": "https://localhost:8080/"
        },
        "id": "nvV9ghaRvfEN",
        "outputId": "3bd2cd31-b52d-453a-f4d3-86ab26ea6c9e"
      },
      "execution_count": 125,
      "outputs": [
        {
          "output_type": "stream",
          "name": "stdout",
          "text": [
            "<em class=\"no_down\">\n",
            "<span class=\"blind\">70,700</span>\n",
            "<span class=\"no7\">7</span><span class=\"no0\">0</span><span class=\"shim\">,</span><span class=\"no7\">7</span><span class=\"no0\">0</span><span class=\"no0\">0</span>\n",
            "</em>\n"
          ]
        }
      ]
    },
    {
      "cell_type": "code",
      "source": [
        "price = em.find('span', {'class':'blind'}).text\n",
        "print(price)"
      ],
      "metadata": {
        "colab": {
          "base_uri": "https://localhost:8080/"
        },
        "id": "1CDPJBIEv5hf",
        "outputId": "64fe0d23-c443-4c97-96a3-039faadbe789"
      },
      "execution_count": 126,
      "outputs": [
        {
          "output_type": "stream",
          "name": "stdout",
          "text": [
            "70,700\n"
          ]
        }
      ]
    },
    {
      "cell_type": "code",
      "source": [
        "# 삼성전자 추출\n",
        "\n",
        "title = soup.find('div', {'class':'wrap_company'})\n",
        "name = title.find('h2').text\n",
        "print(name)\n",
        "\n",
        "# 종목 코드 추출\n",
        "code = title.find('span', {'class':'code'}).text\n",
        "print(code)"
      ],
      "metadata": {
        "colab": {
          "base_uri": "https://localhost:8080/"
        },
        "id": "YjU5C_KLwCtI",
        "outputId": "d91d772d-9179-4a5e-85cb-5acfedcf3566"
      },
      "execution_count": 127,
      "outputs": [
        {
          "output_type": "stream",
          "name": "stdout",
          "text": [
            "삼성전자\n",
            "005930\n"
          ]
        }
      ]
    },
    {
      "cell_type": "code",
      "source": [
        "wrap_company = soup.find('div', {'class':'wrap_company'})\n",
        "name = wrap_company.a.text\n",
        "print(name)\n",
        "\n",
        "div_description = wrap_company.find('div', {'class': 'description'})\n",
        "code = div_description.span.text\n",
        "print(code)"
      ],
      "metadata": {
        "colab": {
          "base_uri": "https://localhost:8080/"
        },
        "id": "ZgY2paOqwmPg",
        "outputId": "7b9cfdb3-ca44-432c-e358-b6d6006d6bcd"
      },
      "execution_count": 128,
      "outputs": [
        {
          "output_type": "stream",
          "name": "stdout",
          "text": [
            "삼성전자\n",
            "005930\n"
          ]
        }
      ]
    },
    {
      "cell_type": "code",
      "source": [
        "# 거래량 추출\n",
        "table = soup.find('table', {'class':'no_info'})\n",
        "tds = table.find_all('td')\n",
        "volume = tds[2].find('span', {'class': 'blind'}).text\n",
        "print(volume)"
      ],
      "metadata": {
        "colab": {
          "base_uri": "https://localhost:8080/"
        },
        "id": "zzm7_BUNyxOB",
        "outputId": "b6589c53-fbeb-434f-fcf3-d02870cd851b"
      },
      "execution_count": 133,
      "outputs": [
        {
          "output_type": "stream",
          "name": "stdout",
          "text": [
            "7,225,042\n"
          ]
        }
      ]
    },
    {
      "cell_type": "code",
      "source": [
        "dic = {'price':price, 'name':name, 'code':code, 'volume':volume}\n",
        "print(dic)"
      ],
      "metadata": {
        "colab": {
          "base_uri": "https://localhost:8080/"
        },
        "id": "V-N9YJHrzKYd",
        "outputId": "55e70cb6-a8b5-48a5-da05-5bb33e1a8a4b"
      },
      "execution_count": 134,
      "outputs": [
        {
          "output_type": "stream",
          "name": "stdout",
          "text": [
            "{'price': '70,700', 'name': '삼성전자', 'code': '005930', 'volume': '7,225,042'}\n"
          ]
        }
      ]
    },
    {
      "cell_type": "code",
      "source": [
        "def naver_finance(id):\n",
        "  site = 'https://finance.naver.com/item/main.naver?code={}'.format(id)\n",
        "  request = requests.get(site)\n",
        "  soup = BeautifulSoup(request.text)\n",
        "\n",
        "  div_today = soup.find('div', {'class':'today'})\n",
        "  em = div_today.find('em')\n",
        "  price = em.find('span', {'class':'blind'}).text\n",
        "\n",
        "  wrap_company = soup.find('div', {'class':'wrap_company'})\n",
        "  name = wrap_company.a.text\n",
        "\n",
        "  # div_description = wrap_company.find('div', {'class': 'description'})\n",
        "  # code = div_description.span.text\n",
        "\n",
        "  table = soup.find('table', {'class':'no_info'})\n",
        "  tds = table.find_all('td')\n",
        "  volume = tds[2].find('span', {'class': 'blind'}).text\n",
        "\n",
        "  dic = {'price':price, 'name':name, 'code':id, 'volume':volume}\n",
        "  return dic\n",
        "\n",
        "print(naver_finance('005930'))\n",
        "print(naver_finance('005950'))\n",
        "print(naver_finance('000660'))"
      ],
      "metadata": {
        "colab": {
          "base_uri": "https://localhost:8080/"
        },
        "id": "r9PiNLpY2M_e",
        "outputId": "720c158a-52c8-4c66-81b3-67fba7e2a06d"
      },
      "execution_count": 140,
      "outputs": [
        {
          "output_type": "stream",
          "name": "stdout",
          "text": [
            "{'price': '70,900', 'name': '삼성전자', 'code': '005930', 'volume': '9,729,225'}\n",
            "{'price': '30,700', 'name': '이수화학', 'code': '005950', 'volume': '14,862,337'}\n",
            "{'price': '109,500', 'name': 'SK하이닉스', 'code': '000660', 'volume': '3,953,174'}\n"
          ]
        }
      ]
    },
    {
      "cell_type": "code",
      "source": [
        "codes = ['005930', '005950', '000660', '457190', '016790']"
      ],
      "metadata": {
        "id": "tFJDBqbF8VpO"
      },
      "execution_count": 141,
      "outputs": []
    },
    {
      "cell_type": "code",
      "source": [
        "data = []\n",
        "for code in codes:\n",
        "  data.append(naver_finance(code))\n",
        "print(data)"
      ],
      "metadata": {
        "colab": {
          "base_uri": "https://localhost:8080/"
        },
        "id": "eSRQjdtXLWXi",
        "outputId": "92fa9fc9-033d-4497-d247-61afd684db4c"
      },
      "execution_count": 142,
      "outputs": [
        {
          "output_type": "stream",
          "name": "stdout",
          "text": [
            "[{'price': '71,000', 'name': '삼성전자', 'code': '005930', 'volume': '9,745,030'}, {'price': '30,800', 'name': '이수화학', 'code': '005950', 'volume': '14,878,436'}, {'price': '109,400', 'name': 'SK하이닉스', 'code': '000660', 'volume': '3,962,640'}, {'price': '140,200', 'name': '이수스페셜티케미컬', 'code': '457190', 'volume': '98,699'}, {'price': '33,550', 'name': '카나리아바이오', 'code': '016790', 'volume': '5,622,401'}]\n"
          ]
        }
      ]
    },
    {
      "cell_type": "code",
      "source": [
        "import pandas as pd"
      ],
      "metadata": {
        "id": "_7s97-2qLj65"
      },
      "execution_count": 143,
      "outputs": []
    },
    {
      "cell_type": "code",
      "source": [
        "df = pd.DataFrame(data)\n",
        "df"
      ],
      "metadata": {
        "colab": {
          "base_uri": "https://localhost:8080/",
          "height": 206
        },
        "id": "zOEd_d_kLomO",
        "outputId": "39719d29-6743-4996-a6a0-3684e9dc7439"
      },
      "execution_count": 145,
      "outputs": [
        {
          "output_type": "execute_result",
          "data": {
            "text/plain": [
              "     price       name    code      volume\n",
              "0   71,000       삼성전자  005930   9,745,030\n",
              "1   30,800       이수화학  005950  14,878,436\n",
              "2  109,400     SK하이닉스  000660   3,962,640\n",
              "3  140,200  이수스페셜티케미컬  457190      98,699\n",
              "4   33,550    카나리아바이오  016790   5,622,401"
            ],
            "text/html": [
              "\n",
              "  <div id=\"df-eababb75-3577-442b-b661-064c84977a84\">\n",
              "    <div class=\"colab-df-container\">\n",
              "      <div>\n",
              "<style scoped>\n",
              "    .dataframe tbody tr th:only-of-type {\n",
              "        vertical-align: middle;\n",
              "    }\n",
              "\n",
              "    .dataframe tbody tr th {\n",
              "        vertical-align: top;\n",
              "    }\n",
              "\n",
              "    .dataframe thead th {\n",
              "        text-align: right;\n",
              "    }\n",
              "</style>\n",
              "<table border=\"1\" class=\"dataframe\">\n",
              "  <thead>\n",
              "    <tr style=\"text-align: right;\">\n",
              "      <th></th>\n",
              "      <th>price</th>\n",
              "      <th>name</th>\n",
              "      <th>code</th>\n",
              "      <th>volume</th>\n",
              "    </tr>\n",
              "  </thead>\n",
              "  <tbody>\n",
              "    <tr>\n",
              "      <th>0</th>\n",
              "      <td>71,000</td>\n",
              "      <td>삼성전자</td>\n",
              "      <td>005930</td>\n",
              "      <td>9,745,030</td>\n",
              "    </tr>\n",
              "    <tr>\n",
              "      <th>1</th>\n",
              "      <td>30,800</td>\n",
              "      <td>이수화학</td>\n",
              "      <td>005950</td>\n",
              "      <td>14,878,436</td>\n",
              "    </tr>\n",
              "    <tr>\n",
              "      <th>2</th>\n",
              "      <td>109,400</td>\n",
              "      <td>SK하이닉스</td>\n",
              "      <td>000660</td>\n",
              "      <td>3,962,640</td>\n",
              "    </tr>\n",
              "    <tr>\n",
              "      <th>3</th>\n",
              "      <td>140,200</td>\n",
              "      <td>이수스페셜티케미컬</td>\n",
              "      <td>457190</td>\n",
              "      <td>98,699</td>\n",
              "    </tr>\n",
              "    <tr>\n",
              "      <th>4</th>\n",
              "      <td>33,550</td>\n",
              "      <td>카나리아바이오</td>\n",
              "      <td>016790</td>\n",
              "      <td>5,622,401</td>\n",
              "    </tr>\n",
              "  </tbody>\n",
              "</table>\n",
              "</div>\n",
              "      <button class=\"colab-df-convert\" onclick=\"convertToInteractive('df-eababb75-3577-442b-b661-064c84977a84')\"\n",
              "              title=\"Convert this dataframe to an interactive table.\"\n",
              "              style=\"display:none;\">\n",
              "        \n",
              "  <svg xmlns=\"http://www.w3.org/2000/svg\" height=\"24px\"viewBox=\"0 0 24 24\"\n",
              "       width=\"24px\">\n",
              "    <path d=\"M0 0h24v24H0V0z\" fill=\"none\"/>\n",
              "    <path d=\"M18.56 5.44l.94 2.06.94-2.06 2.06-.94-2.06-.94-.94-2.06-.94 2.06-2.06.94zm-11 1L8.5 8.5l.94-2.06 2.06-.94-2.06-.94L8.5 2.5l-.94 2.06-2.06.94zm10 10l.94 2.06.94-2.06 2.06-.94-2.06-.94-.94-2.06-.94 2.06-2.06.94z\"/><path d=\"M17.41 7.96l-1.37-1.37c-.4-.4-.92-.59-1.43-.59-.52 0-1.04.2-1.43.59L10.3 9.45l-7.72 7.72c-.78.78-.78 2.05 0 2.83L4 21.41c.39.39.9.59 1.41.59.51 0 1.02-.2 1.41-.59l7.78-7.78 2.81-2.81c.8-.78.8-2.07 0-2.86zM5.41 20L4 18.59l7.72-7.72 1.47 1.35L5.41 20z\"/>\n",
              "  </svg>\n",
              "      </button>\n",
              "      \n",
              "  <style>\n",
              "    .colab-df-container {\n",
              "      display:flex;\n",
              "      flex-wrap:wrap;\n",
              "      gap: 12px;\n",
              "    }\n",
              "\n",
              "    .colab-df-convert {\n",
              "      background-color: #E8F0FE;\n",
              "      border: none;\n",
              "      border-radius: 50%;\n",
              "      cursor: pointer;\n",
              "      display: none;\n",
              "      fill: #1967D2;\n",
              "      height: 32px;\n",
              "      padding: 0 0 0 0;\n",
              "      width: 32px;\n",
              "    }\n",
              "\n",
              "    .colab-df-convert:hover {\n",
              "      background-color: #E2EBFA;\n",
              "      box-shadow: 0px 1px 2px rgba(60, 64, 67, 0.3), 0px 1px 3px 1px rgba(60, 64, 67, 0.15);\n",
              "      fill: #174EA6;\n",
              "    }\n",
              "\n",
              "    [theme=dark] .colab-df-convert {\n",
              "      background-color: #3B4455;\n",
              "      fill: #D2E3FC;\n",
              "    }\n",
              "\n",
              "    [theme=dark] .colab-df-convert:hover {\n",
              "      background-color: #434B5C;\n",
              "      box-shadow: 0px 1px 3px 1px rgba(0, 0, 0, 0.15);\n",
              "      filter: drop-shadow(0px 1px 2px rgba(0, 0, 0, 0.3));\n",
              "      fill: #FFFFFF;\n",
              "    }\n",
              "  </style>\n",
              "\n",
              "      <script>\n",
              "        const buttonEl =\n",
              "          document.querySelector('#df-eababb75-3577-442b-b661-064c84977a84 button.colab-df-convert');\n",
              "        buttonEl.style.display =\n",
              "          google.colab.kernel.accessAllowed ? 'block' : 'none';\n",
              "\n",
              "        async function convertToInteractive(key) {\n",
              "          const element = document.querySelector('#df-eababb75-3577-442b-b661-064c84977a84');\n",
              "          const dataTable =\n",
              "            await google.colab.kernel.invokeFunction('convertToInteractive',\n",
              "                                                     [key], {});\n",
              "          if (!dataTable) return;\n",
              "\n",
              "          const docLinkHtml = 'Like what you see? Visit the ' +\n",
              "            '<a target=\"_blank\" href=https://colab.research.google.com/notebooks/data_table.ipynb>data table notebook</a>'\n",
              "            + ' to learn more about interactive tables.';\n",
              "          element.innerHTML = '';\n",
              "          dataTable['output_type'] = 'display_data';\n",
              "          await google.colab.output.renderOutput(dataTable, element);\n",
              "          const docLink = document.createElement('div');\n",
              "          docLink.innerHTML = docLinkHtml;\n",
              "          element.appendChild(docLink);\n",
              "        }\n",
              "      </script>\n",
              "    </div>\n",
              "  </div>\n",
              "  "
            ]
          },
          "metadata": {},
          "execution_count": 145
        }
      ]
    },
    {
      "cell_type": "code",
      "source": [
        "df.to_excel('naver_finance.xlsx')"
      ],
      "metadata": {
        "id": "dsk4ekOwLrca"
      },
      "execution_count": 147,
      "outputs": []
    },
    {
      "cell_type": "code",
      "source": [
        "# 과제\n",
        "# 지니차트 200위까지 해오기\n",
        "# url을 for문으로 돌려서 하면 가능하다\n",
        "# 수집한 데이터를 dataframe으로 만들어서 저장\n",
        "# 이를 엑셀로 출력해오기\n",
        "# github에 제출"
      ],
      "metadata": {
        "id": "_EB6kFtSMcaq"
      },
      "execution_count": 149,
      "outputs": []
    },
    {
      "cell_type": "markdown",
      "source": [
        "# 6. 지니뮤직"
      ],
      "metadata": {
        "id": "gNYPVxgsMff0"
      }
    },
    {
      "cell_type": "code",
      "source": [
        "site = 'https://www.genie.co.kr/chart/top200?ditc=D&ymd=20230601&hh=13&rtm=Y&pg=1'\n",
        "header = {\"User-Agent\":\n",
        "\"Mozilla/5.0 (Windows NT 10.0; Win64; x64)\"}\n",
        "request = requests.get(site, headers=header)\n",
        "print(request)"
      ],
      "metadata": {
        "colab": {
          "base_uri": "https://localhost:8080/"
        },
        "id": "ySkjp1fBNR9N",
        "outputId": "1f2835a6-c30b-46a5-a3f5-9ac9876ae8de"
      },
      "execution_count": 185,
      "outputs": [
        {
          "output_type": "stream",
          "name": "stdout",
          "text": [
            "<Response [200]>\n"
          ]
        }
      ]
    },
    {
      "cell_type": "code",
      "source": [
        "soup = BeautifulSoup(request.text)"
      ],
      "metadata": {
        "id": "ElIZzfMGOC6J"
      },
      "execution_count": 186,
      "outputs": []
    },
    {
      "cell_type": "code",
      "source": [
        "titles = soup.findAll('a', {'class':'title ellipsis'})\n",
        "artists = soup.findAll('a', {'class':'artist ellipsis'})\n",
        "infos = soup.findAll('td', {'class': 'info'})\n",
        "\n",
        "for info in infos:\n",
        "  title = info.find('a', {'class':'title ellipsis'})\n",
        "  artist = info.find('a', {'class':'artist ellipsis'})\n",
        "  print(title.text.strip(), artist.text.strip())\n",
        "\n",
        "\n",
        "# for title in titles:\n",
        "#   print(title.text.strip())\n",
        "# for artist in artists:\n",
        "#   print(artist)\n",
        "# print('지니 차트')\n",
        "# for i, (t, a) in enumerate(zip(titles, artists)): # enumerate를 이용해서 index도 같이 추출할 수 있다.\n",
        "#   title = t.text.strip()\n",
        "#   artist = a.text.strip()\n",
        "#   if (((i+1) % 10 == 1) & (i+1 != 1)):\n",
        "#     print('\\n')\n",
        "#   print('{0:3d}위 곡 {1} - {2}'.format(i+1, artist, title))"
      ],
      "metadata": {
        "colab": {
          "base_uri": "https://localhost:8080/"
        },
        "id": "dk7ECsRxODw2",
        "outputId": "227bb7e4-e98b-4f72-d698-b53467d8ce95"
      },
      "execution_count": 223,
      "outputs": [
        {
          "output_type": "stream",
          "name": "stdout",
          "text": [
            "퀸카 (Queencard) (여자)아이들\n",
            "I AM IVE (아이브)\n",
            "Spicy aespa\n",
            "Kitsch IVE (아이브)\n",
            "UNFORGIVEN (Feat. Nile Rodgers) LE SSERAFIM (르세라핌)\n",
            "Hype boy NewJeans\n",
            "꽃 지수 (JISOO)\n",
            "Ditto NewJeans\n",
            "사랑은 늘 도망가 임영웅\n",
            "우리들의 블루스 임영웅\n",
            "London Boy 임영웅\n",
            "손오공 세븐틴 (SEVENTEEN)\n",
            "이제 나만 믿어요 임영웅\n",
            "사건의 지평선 윤하 (YOUNHA)\n",
            "다시 만날 수 있을까 임영웅\n",
            "Cupid FIFTY FIFTY\n",
            "Polaroid 임영웅\n",
            "무지개 임영웅\n",
            "Teddy Bear STAYC (스테이씨)\n",
            "아버지 임영웅\n",
            "I Don't Think That I Like Her Charlie Puth\n",
            "심 (心) DK (디셈버)\n",
            "손이 참 곱던 그대 임영웅\n",
            "A bientot 임영웅\n",
            "보금자리 임영웅\n",
            "After LIKE IVE (아이브)\n",
            "Dangerously Charlie Puth\n",
            "OMG NewJeans\n",
            "파이팅 해야지 (Feat. 이영지) 부석순 (SEVENTEEN)\n",
            "헤어지자 말해요 박재정\n",
            "LOVE DIVE IVE (아이브)\n",
            "Attention NewJeans\n",
            "사랑해 진짜 임영웅\n",
            "연애편지 임영웅\n",
            "CHRISTIAN Zior Park\n",
            "인생찬가 임영웅\n",
            "ANTIFRAGILE LE SSERAFIM (르세라핌)\n",
            "이브, 프시케 그리고 푸른 수염의 아내 LE SSERAFIM (르세라핌)\n",
            "그때 그 순간 그대로 (그그그) WSG워너비 (가야G)\n",
            "건물 사이에 피어난 장미 H1-KEY (하이키)\n",
            "사랑인가 봐 멜로망스 (MeloMance)\n",
            "물론 허각\n",
            "NIGHT DANCER imase\n",
            "빛이 나는 너에게 던 (DAWN)\n",
            "That's Hilarious Charlie Puth\n",
            "KNOCK 이채연\n",
            "The Drum Alan Walker\n",
            "TOMBOY (여자)아이들\n",
            "나의 바람 (Wind And Wish) 비투비\n",
            "다정히 내 이름을 부르면 경서예지 & 전건호\n"
          ]
        }
      ]
    },
    {
      "cell_type": "code",
      "source": [
        "data = []\n",
        "def my_genie(page):\n",
        "  site = 'https://www.genie.co.kr/chart/top200?ditc=D&ymd=20230601&hh=13&rtm=Y&pg={}'.format(page)\n",
        "  header = {\"User-Agent\":\n",
        "  \"Mozilla/5.0 (Windows NT 10.0; Win64; x64)\"}\n",
        "  request = requests.get(site, headers=header)\n",
        "  soup = BeautifulSoup(request.text)\n",
        "  infos = soup.findAll('td', {'class': 'info'})\n",
        "\n",
        "  for i in range(len(infos)):\n",
        "    title = infos[i].find('a', {'class':'title ellipsis'}).text.strip()\n",
        "    artist = infos[i].find('a', {'class':'artist ellipsis'}).text.strip()\n",
        "    div = {'순위':'{}위'.format(50*(page-1)+i+1), '가수':artist, '노래 제목':title}\n",
        "    data.append(div)"
      ],
      "metadata": {
        "id": "QSLZ5NfuM_n_"
      },
      "execution_count": 224,
      "outputs": []
    },
    {
      "cell_type": "code",
      "source": [
        "for i in range(4):\n",
        "  my_genie(i+1)"
      ],
      "metadata": {
        "id": "9vtMQDycRTDq"
      },
      "execution_count": 225,
      "outputs": []
    },
    {
      "cell_type": "code",
      "source": [
        "data"
      ],
      "metadata": {
        "colab": {
          "base_uri": "https://localhost:8080/"
        },
        "id": "R0jqMEfwRUaa",
        "outputId": "9a306f27-f3f4-4766-9cfd-8b5a5a234c01"
      },
      "execution_count": 226,
      "outputs": [
        {
          "output_type": "execute_result",
          "data": {
            "text/plain": [
              "[{'순위': '1위', '가수': '(여자)아이들', '노래 제목': '퀸카 (Queencard)'},\n",
              " {'순위': '2위', '가수': 'IVE (아이브)', '노래 제목': 'I AM'},\n",
              " {'순위': '3위', '가수': 'aespa', '노래 제목': 'Spicy'},\n",
              " {'순위': '4위', '가수': 'IVE (아이브)', '노래 제목': 'Kitsch'},\n",
              " {'순위': '5위',\n",
              "  '가수': 'LE SSERAFIM (르세라핌)',\n",
              "  '노래 제목': 'UNFORGIVEN (Feat. Nile Rodgers)'},\n",
              " {'순위': '6위', '가수': '지수 (JISOO)', '노래 제목': '꽃'},\n",
              " {'순위': '7위', '가수': 'NewJeans', '노래 제목': 'Hype boy'},\n",
              " {'순위': '8위', '가수': 'NewJeans', '노래 제목': 'Ditto'},\n",
              " {'순위': '9위', '가수': '세븐틴 (SEVENTEEN)', '노래 제목': '손오공'},\n",
              " {'순위': '10위', '가수': '임영웅', '노래 제목': '사랑은 늘 도망가'},\n",
              " {'순위': '11위', '가수': '윤하 (YOUNHA)', '노래 제목': '사건의 지평선'},\n",
              " {'순위': '12위', '가수': 'FIFTY FIFTY', '노래 제목': 'Cupid'},\n",
              " {'순위': '13위', '가수': 'IVE (아이브)', '노래 제목': 'After LIKE'},\n",
              " {'순위': '14위', '가수': '임영웅', '노래 제목': '우리들의 블루스'},\n",
              " {'순위': '15위', '가수': 'Charlie Puth', '노래 제목': \"I Don't Think That I Like Her\"},\n",
              " {'순위': '16위', '가수': 'DK (디셈버)', '노래 제목': '심 (心)'},\n",
              " {'순위': '17위', '가수': 'STAYC (스테이씨)', '노래 제목': 'Teddy Bear'},\n",
              " {'순위': '18위', '가수': '임영웅', '노래 제목': 'London Boy'},\n",
              " {'순위': '19위', '가수': '임영웅', '노래 제목': '다시 만날 수 있을까'},\n",
              " {'순위': '20위', '가수': '임영웅', '노래 제목': '이제 나만 믿어요'},\n",
              " {'순위': '21위', '가수': '부석순 (SEVENTEEN)', '노래 제목': '파이팅 해야지 (Feat. 이영지)'},\n",
              " {'순위': '22위', '가수': 'Charlie Puth', '노래 제목': 'Dangerously'},\n",
              " {'순위': '23위', '가수': '김민석 (멜로망스)', '노래 제목': '취중고백'},\n",
              " {'순위': '24위', '가수': '임영웅', '노래 제목': 'Polaroid'},\n",
              " {'순위': '25위', '가수': 'NewJeans', '노래 제목': 'OMG'},\n",
              " {'순위': '26위', '가수': 'Zior Park', '노래 제목': 'CHRISTIAN'},\n",
              " {'순위': '27위', '가수': 'IVE (아이브)', '노래 제목': 'LOVE DIVE'},\n",
              " {'순위': '28위', '가수': '임영웅', '노래 제목': '무지개'},\n",
              " {'순위': '29위', '가수': '박재정', '노래 제목': '헤어지자 말해요'},\n",
              " {'순위': '30위', '가수': 'LE SSERAFIM (르세라핌)', '노래 제목': '이브, 프시케 그리고 푸른 수염의 아내'},\n",
              " {'순위': '31위', '가수': 'NewJeans', '노래 제목': 'Attention'},\n",
              " {'순위': '32위', '가수': 'LE SSERAFIM (르세라핌)', '노래 제목': 'ANTIFRAGILE'},\n",
              " {'순위': '33위', '가수': '임영웅', '노래 제목': '아버지'},\n",
              " {'순위': '34위', '가수': 'H1-KEY (하이키)', '노래 제목': '건물 사이에 피어난 장미'},\n",
              " {'순위': '35위', '가수': '멜로망스 (MeloMance)', '노래 제목': '사랑인가 봐'},\n",
              " {'순위': '36위', '가수': '임영웅', '노래 제목': '사랑해 진짜'},\n",
              " {'순위': '37위', '가수': '임영웅', '노래 제목': 'A bientot'},\n",
              " {'순위': '38위', '가수': '임영웅', '노래 제목': '손이 참 곱던 그대'},\n",
              " {'순위': '39위', '가수': '임영웅', '노래 제목': '연애편지'},\n",
              " {'순위': '40위', '가수': '허각', '노래 제목': '물론'},\n",
              " {'순위': '41위', '가수': 'WSG워너비 (4FIRE)', '노래 제목': '보고싶었어'},\n",
              " {'순위': '42위', '가수': '임영웅', '노래 제목': '인생찬가'},\n",
              " {'순위': '43위', '가수': 'imase', '노래 제목': 'NIGHT DANCER'},\n",
              " {'순위': '44위', '가수': 'Charlie Puth', '노래 제목': \"That's Hilarious\"},\n",
              " {'순위': '45위', '가수': '임영웅', '노래 제목': '보금자리'},\n",
              " {'순위': '46위', '가수': '(여자)아이들', '노래 제목': 'TOMBOY'},\n",
              " {'순위': '47위', '가수': '던 (DAWN)', '노래 제목': '빛이 나는 너에게'},\n",
              " {'순위': '48위', '가수': 'Alan Walker', '노래 제목': 'The Drum'},\n",
              " {'순위': '49위', '가수': '임재현', '노래 제목': 'Heaven (2023)'},\n",
              " {'순위': '50위', '가수': 'BLACKPINK', '노래 제목': 'Shut Down'},\n",
              " {'순위': '51위', '가수': '멜로망스 (MeloMance)', '노래 제목': '찬란한 하루'},\n",
              " {'순위': '52위', '가수': '이채연', '노래 제목': 'KNOCK'},\n",
              " {'순위': '53위', '가수': '(여자)아이들', '노래 제목': 'Nxde'},\n",
              " {'순위': '54위', '가수': '경서예지 & 전건호', '노래 제목': '다정히 내 이름을 부르면'},\n",
              " {'순위': '55위', '가수': 'The Kid LAROI & Justin Bieber', '노래 제목': 'Stay'},\n",
              " {'순위': '56위', '가수': '비투비', '노래 제목': '나의 바람 (Wind And Wish)'},\n",
              " {'순위': '57위', '가수': '지아 (Zia)', '노래 제목': '사랑..그게 뭔데'},\n",
              " {'순위': '58위', '가수': 'BLACKPINK', '노래 제목': 'Pink Venom'},\n",
              " {'순위': '59위', '가수': '지코 (ZICO)', '노래 제목': '새삥 (Prod. by ZICO) (Feat. 호미들)'},\n",
              " {'순위': '60위', '가수': '성시경', '노래 제목': '너의 모든 순간'},\n",
              " {'순위': '61위', '가수': 'WSG워너비 (가야G)', '노래 제목': '그때 그 순간 그대로 (그그그)'},\n",
              " {'순위': '62위', '가수': 'Christopher & 청하', '노래 제목': 'When I Get Old'},\n",
              " {'순위': '63위', '가수': '10CM', '노래 제목': '그라데이션'},\n",
              " {'순위': '64위', '가수': '테이 (Tei)', '노래 제목': 'Monologue'},\n",
              " {'순위': '65위', '가수': '(여자)아이들', '노래 제목': 'Allergy'},\n",
              " {'순위': '66위', '가수': '방탄소년단', '노래 제목': 'Dynamite'},\n",
              " {'순위': '67위', '가수': '경서', '노래 제목': '나의 X에게'},\n",
              " {'순위': '68위', '가수': '지아 (Zia)', '노래 제목': '사랑하기 싫어'},\n",
              " {'순위': '69위', '가수': '#안녕', '노래 제목': '해요 (2022)'},\n",
              " {'순위': '70위', '가수': '윤하 (YOUNHA)', '노래 제목': '오르트구름'},\n",
              " {'순위': '71위', '가수': 'aespa', '노래 제목': 'Thirsty'},\n",
              " {'순위': '72위', '가수': 'IVE (아이브)', '노래 제목': 'ELEVEN'},\n",
              " {'순위': '73위', '가수': 'Peder Elias', '노래 제목': 'Loving You Girl (Feat. Hkeem)'},\n",
              " {'순위': '74위', '가수': '이무진', '노래 제목': '잠깐 시간 될까'},\n",
              " {'순위': '75위', '가수': '경서', '노래 제목': '첫 키스에 내 심장은 120BPM'},\n",
              " {'순위': '76위', '가수': '주호', '노래 제목': '내가 아니라도'},\n",
              " {'순위': '77위', '가수': '이무진', '노래 제목': '신호등'},\n",
              " {'순위': '78위',\n",
              "  '가수': '정국 & 방탄소년단',\n",
              "  '노래 제목': 'Dreamers (Music from the FIFA World Cup Qatar 2022 Official Soundtrack) (Feat. FIFA Sound)'},\n",
              " {'순위': '79위', '가수': 'Anne-Marie', '노래 제목': '2002'},\n",
              " {'순위': '80위', '가수': '김호중', '노래 제목': '그중에 그대를 만나'},\n",
              " {'순위': '81위', '가수': '잔나비', '노래 제목': '주저하는 연인들을 위해'},\n",
              " {'순위': '82위', '가수': 'LE SSERAFIM (르세라핌)', '노래 제목': 'FEARLESS'},\n",
              " {'순위': '83위', '가수': 'BIG Naughty (서동현)', '노래 제목': '정이라고 하자 (Feat. 10CM)'},\n",
              " {'순위': '84위', '가수': '방탄소년단', '노래 제목': 'Butter'},\n",
              " {'순위': '85위', '가수': '조정석', '노래 제목': '아로하'},\n",
              " {'순위': '86위', '가수': '폴킴', '노래 제목': '모든 날, 모든 순간 (Every day, Every Moment)'},\n",
              " {'순위': '87위', '가수': '방탄소년단', '노래 제목': '봄날'},\n",
              " {'순위': '88위', '가수': '김호중 & 송가인', '노래 제목': '당신을 만나'},\n",
              " {'순위': '89위', '가수': '김호중', '노래 제목': '나의 목소리로'},\n",
              " {'순위': '90위', '가수': '우디 (Woody)', '노래 제목': 'Say I Love You'},\n",
              " {'순위': '91위', '가수': '태양', '노래 제목': 'VIBE (Feat. Jimin of BTS)'},\n",
              " {'순위': '92위', '가수': 'NewJeans', '노래 제목': 'Cookie'},\n",
              " {'순위': '93위', '가수': 'Sam Smith & Kim Petras', '노래 제목': 'Unholy'},\n",
              " {'순위': '94위', '가수': 'DK (디셈버)', '노래 제목': '발걸음'},\n",
              " {'순위': '95위', '가수': 'Justin Bieber', '노래 제목': 'Off My Face'},\n",
              " {'순위': '96위', '가수': '성시경', '노래 제목': '희재'},\n",
              " {'순위': '97위', '가수': 'Mina Okabe', '노래 제목': 'Every Second'},\n",
              " {'순위': '98위', '가수': '이우', '노래 제목': '상록수'},\n",
              " {'순위': '99위', '가수': 'Aimyon', '노래 제목': 'Ai Wo Tsutaetaidatoka'},\n",
              " {'순위': '100위', '가수': 'BIGBANG (빅뱅)', '노래 제목': '봄여름가을겨울 (Still Life)'},\n",
              " {'순위': '101위',\n",
              "  '가수': '이영지',\n",
              "  '노래 제목': 'NOT SORRY (Feat. pH-1) (Prod. by Slom)'},\n",
              " {'순위': '102위', '가수': '김호중', '노래 제목': '나보다 더 사랑해요'},\n",
              " {'순위': '103위', '가수': 'NMIXX', '노래 제목': 'Love Me Like This'},\n",
              " {'순위': '104위', '가수': '태연 (TAEYEON)', '노래 제목': 'INVU'},\n",
              " {'순위': '105위',\n",
              "  '가수': 'Charlie Puth',\n",
              "  '노래 제목': \"That's Not How This Works (Feat. Dan ＋ Shay)\"},\n",
              " {'순위': '106위', '가수': '장범준', '노래 제목': '흔들리는 꽃들 속에서 네 샴푸향이 느껴진거야'},\n",
              " {'순위': '107위', '가수': '김호중', '노래 제목': '주마등'},\n",
              " {'순위': '108위', '가수': '경서', '노래 제목': '밤하늘의 별을 (2020)'},\n",
              " {'순위': '109위', '가수': '김호중', '노래 제목': '인생은 뷰티풀'},\n",
              " {'순위': '110위', '가수': '김호중', '노래 제목': '만개 (Prod. 신지후)'},\n",
              " {'순위': '111위', '가수': '김호중', '노래 제목': '빛이 나는 사람'},\n",
              " {'순위': '112위', '가수': '폴킴', '노래 제목': '한강에서 (Feat. BIG Naughty)'},\n",
              " {'순위': '113위', '가수': \"BE'O (비오)\", '노래 제목': 'LOVE me'},\n",
              " {'순위': '114위', '가수': '주주 시크릿', '노래 제목': '밤이 무서워요 (Lonely Night)'},\n",
              " {'순위': '115위', '가수': 'Ed Sheeran', '노래 제목': 'Bad Habits'},\n",
              " {'순위': '116위', '가수': '멜로망스 (MeloMance)', '노래 제목': '선물'},\n",
              " {'순위': '117위', '가수': '우디 (Woody)', '노래 제목': 'Nostalgia'},\n",
              " {'순위': '118위',\n",
              "  '가수': '이홍기 (FT아일랜드)',\n",
              "  '노래 제목': '한사람만 (2023) (여름날 우리 X 이홍기 (FT아일랜드))'},\n",
              " {'순위': '119위', '가수': '10CM & BIG Naughty (서동현)', '노래 제목': '딱 10CM만'},\n",
              " {'순위': '120위', '가수': 'Crush', '노래 제목': 'Rush Hour (Feat. j-hope of BTS)'},\n",
              " {'순위': '121위', '가수': '헤이즈 (Heize)', '노래 제목': '빙글빙글 (Prod. by R.Tee)'},\n",
              " {'순위': '122위', '가수': 'NCT DREAM', '노래 제목': 'Candy'},\n",
              " {'순위': '123위', '가수': '김호중', '노래 제목': '슬픈등'},\n",
              " {'순위': '124위', '가수': '김호중', '노래 제목': '약속 (約束)'},\n",
              " {'순위': '125위', '가수': 'Christopher', '노래 제목': 'Bad'},\n",
              " {'순위': '126위',\n",
              "  '가수': '싸이 (Psy)',\n",
              "  '노래 제목': 'That That (Prod. & Feat. SUGA of BTS)'},\n",
              " {'순위': '127위', '가수': 'Pink Sweat$', '노래 제목': 'At My Worst'},\n",
              " {'순위': '128위', '가수': '황인욱', '노래 제목': '이 새벽에 전화하는 건'},\n",
              " {'순위': '129위', '가수': 'V.O.S', '노래 제목': '안녕이라고 말하지마'},\n",
              " {'순위': '130위', '가수': \"BE'O (비오)\", '노래 제목': '자격지심 (Feat. ZICO)'},\n",
              " {'순위': '131위', '가수': '김호중', '노래 제목': 'Il Mare Calmo Della Sera'},\n",
              " {'순위': '132위', '가수': '멜로망스 (MeloMance)', '노래 제목': '고백'},\n",
              " {'순위': '133위', '가수': '볼빨간사춘기', '노래 제목': 'FRIEND THE END'},\n",
              " {'순위': '134위', '가수': '아이유 (IU)', '노래 제목': 'strawberry moon'},\n",
              " {'순위': '135위', '가수': '지민', '노래 제목': 'Like Crazy'},\n",
              " {'순위': '136위', '가수': '태연 (TAEYEON)', '노래 제목': 'Weekend'},\n",
              " {'순위': '137위', '가수': '임한별', '노래 제목': '떠나보낼 준비해 둘걸 그랬어'},\n",
              " {'순위': '138위', '가수': '김호중', '노래 제목': '그리움의 계절'},\n",
              " {'순위': '139위',\n",
              "  '가수': '헤이즈 (Heize)',\n",
              "  '노래 제목': 'And July (Feat. DEAN & DJ Friz)'},\n",
              " {'순위': '140위', '가수': 'aespa', '노래 제목': 'Next Level'},\n",
              " {'순위': '141위', '가수': '아이유 (IU)', '노래 제목': 'Blueming'},\n",
              " {'순위': '142위', '가수': '임한별', '노래 제목': '사랑하지 않아서 그랬어'},\n",
              " {'순위': '143위',\n",
              "  '가수': '마크툽 (Maktub)',\n",
              "  '노래 제목': '오늘도 빛나는 너에게 (To You My Light) (Feat.이라온)'},\n",
              " {'순위': '144위', '가수': '김승민', '노래 제목': '내 기쁨은 너가 벤틀리를 끄는 거야'},\n",
              " {'순위': '145위', '가수': '볼빨간사춘기', '노래 제목': 'Love story'},\n",
              " {'순위': '146위', '가수': '방탄소년단', '노래 제목': 'Permission to Dance'},\n",
              " {'순위': '147위',\n",
              "  '가수': 'Kelly Clarkson',\n",
              "  '노래 제목': \"Stronger (What Doesn't Kill You)\"},\n",
              " {'순위': '148위', '가수': 'etham', '노래 제목': '12 : 45 (Stripped)'},\n",
              " {'순위': '149위', '가수': 'MSG워너비 (M.O.M)', '노래 제목': '바라만 본다'},\n",
              " {'순위': '150위', '가수': '10CM', '노래 제목': '부동의 첫사랑'},\n",
              " {'순위': '151위', '가수': '김필', '노래 제목': '다시 사랑한다면 (니글니글 버터플라이)'},\n",
              " {'순위': '152위', '가수': '태연 (TAEYEON)', '노래 제목': '사계 (Four Seasons)'},\n",
              " {'순위': '153위', '가수': '세븐틴 (SEVENTEEN)', '노래 제목': 'F*ck My Life'},\n",
              " {'순위': '154위', '가수': 'Meghan Trainor', '노래 제목': 'Made You Look'},\n",
              " {'순위': '155위', '가수': 'AKMU (악뮤)', '노래 제목': '어떻게 이별까지 사랑하겠어, 널 사랑하는 거지'},\n",
              " {'순위': '156위', '가수': '에일리 (Ailee)', '노래 제목': '첫눈처럼 너에게 가겠다'},\n",
              " {'순위': '157위', '가수': '먼데이 키즈 (Monday Kiz) & #안녕', '노래 제목': '이 세상 끝까지'},\n",
              " {'순위': '158위',\n",
              "  '가수': '지민',\n",
              "  '노래 제목': 'Angel Pt. 1 (Feat. JVKE & Muni Long) (FAST X Soundtrack)'},\n",
              " {'순위': '159위', '가수': '아이유 (IU)', '노래 제목': '내 손을 잡아'},\n",
              " {'순위': '160위', '가수': '규현 (KYUHYUN)', '노래 제목': '화려하지 않은 고백'},\n",
              " {'순위': '161위', '가수': 'Agust D', '노래 제목': '사람 Pt.2 (Feat. 아이유)'},\n",
              " {'순위': '162위',\n",
              "  '가수': 'Charlie Puth & 정국 & 방탄소년단',\n",
              "  '노래 제목': 'Left and Right (Feat. Jung Kook of BTS)'},\n",
              " {'순위': '163위', '가수': '디핵 (D-Hack) & PATEKO', '노래 제목': 'OHAYO MY NIGHT'},\n",
              " {'순위': '164위', '가수': 'DAY6 (데이식스)', '노래 제목': '예뻤어'},\n",
              " {'순위': '165위', '가수': '아이유 (IU)', '노래 제목': 'Celebrity'},\n",
              " {'순위': '166위', '가수': '아이유 (IU)', '노래 제목': '에잇 (Prod. & Feat. SUGA of BTS)'},\n",
              " {'순위': '167위', '가수': '방탄소년단', '노래 제목': 'Yet To Come'},\n",
              " {'순위': '168위', '가수': '헤이즈 (Heize)', '노래 제목': '헤픈 우연'},\n",
              " {'순위': '169위',\n",
              "  '가수': '마크툽 (Maktub)',\n",
              "  '노래 제목': '찰나가 영원이 될 때 (The Eternal Moment)'},\n",
              " {'순위': '170위', '가수': '봉훈', '노래 제목': '그 밤'},\n",
              " {'순위': '171위', '가수': 'Sam Ryder', '노래 제목': 'Tiny Riot'},\n",
              " {'순위': '172위', '가수': '비투비', '노래 제목': '그리워하다'},\n",
              " {'순위': '173위', '가수': '아이유 (IU)', '노래 제목': '라일락'},\n",
              " {'순위': '174위', '가수': 'Ed Sheeran', '노래 제목': 'Shape Of You'},\n",
              " {'순위': '175위', '가수': 'aespa', '노래 제목': 'Salty & Sweet'},\n",
              " {'순위': '176위', '가수': 'Standing Egg (스탠딩 에그)', '노래 제목': '오래된 노래'},\n",
              " {'순위': '177위', '가수': '적재', '노래 제목': '나랑 같이 걸을래 (바른연애 길잡이 X 적재)'},\n",
              " {'순위': '178위', '가수': '다비치', '노래 제목': '안녕이라고 말하지마'},\n",
              " {'순위': '179위', '가수': '한동근', '노래 제목': '새벽에 걸려온 너의 전화는'},\n",
              " {'순위': '180위', '가수': 'DAY6 (데이식스)', '노래 제목': '한 페이지가 될 수 있게'},\n",
              " {'순위': '181위', '가수': '강민경 (다비치) & 잔나비 최정훈', '노래 제목': '우린 그렇게 사랑해서'},\n",
              " {'순위': '182위', '가수': '오마이걸 (OH MY GIRL)', '노래 제목': 'Dolphin'},\n",
              " {'순위': '183위', '가수': 'aespa', '노래 제목': '도깨비불 (Illusion)'},\n",
              " {'순위': '184위',\n",
              "  '가수': '박재범',\n",
              "  '노래 제목': 'All I Wanna Do (K) (Feat. Hoody & Loco)'},\n",
              " {'순위': '185위', '가수': 'Maroon 5', '노래 제목': 'Memories'},\n",
              " {'순위': '186위', '가수': '규현 (KYUHYUN)', '노래 제목': '내 마음이 움찔했던 순간 (취향저격 그녀 X 규현)'},\n",
              " {'순위': '187위', '가수': '다비치', '노래 제목': '팡파레'},\n",
              " {'순위': '188위', '가수': 'Jeremy Zucker', '노래 제목': 'Comethru'},\n",
              " {'순위': '189위', '가수': '이찬원', '노래 제목': '풍등'},\n",
              " {'순위': '190위', '가수': 'Benson Boone', '노래 제목': 'GHOST TOWN'},\n",
              " {'순위': '191위', '가수': 'Dan ＋ Shay & Justin Bieber', '노래 제목': '10,000 Hours'},\n",
              " {'순위': '192위', '가수': '세븐틴 (SEVENTEEN)', '노래 제목': 'HOT'},\n",
              " {'순위': '193위', '가수': '폴킴', '노래 제목': '있잖아'},\n",
              " {'순위': '194위', '가수': '송하예', '노래 제목': '그대를 알고'},\n",
              " {'순위': '195위', '가수': '이창섭', '노래 제목': '사랑했나봐'},\n",
              " {'순위': '196위', '가수': '딘딘 (DINDIN)', '노래 제목': '인생네컷 (Feat. Leellamarz)'},\n",
              " {'순위': '197위', '가수': '주호', '노래 제목': '잘가요'},\n",
              " {'순위': '198위', '가수': 'Red Velvet (레드벨벳)', '노래 제목': 'Feel My Rhythm'},\n",
              " {'순위': '199위', '가수': 'WSG워너비 (가야G)', '노래 제목': '결국엔 너에게 닿아서'},\n",
              " {'순위': '200위',\n",
              "  '가수': '효린 & 창모 (CHANGMO)',\n",
              "  '노래 제목': 'BLUE MOON (Prod. by GroovyRoom)'}]"
            ]
          },
          "metadata": {},
          "execution_count": 226
        }
      ]
    },
    {
      "cell_type": "code",
      "source": [
        "df = pd.DataFrame(data)\n",
        "df.to_excel('genie_chart.xlsx')"
      ],
      "metadata": {
        "id": "txz0SkuKRxn_"
      },
      "execution_count": 227,
      "outputs": []
    },
    {
      "cell_type": "code",
      "source": [],
      "metadata": {
        "id": "shpMknhIT02L"
      },
      "execution_count": null,
      "outputs": []
    }
  ]
}