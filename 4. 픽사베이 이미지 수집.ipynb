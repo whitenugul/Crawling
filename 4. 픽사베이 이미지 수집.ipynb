{
 "cells": [
  {
   "cell_type": "code",
   "execution_count": 38,
   "id": "9867c177",
   "metadata": {},
   "outputs": [],
   "source": [
    "import chromedriver_autoinstaller\n",
    "import time\n",
    "from selenium import webdriver\n",
    "from selenium.webdriver.common.by import By # xpath 혹은 xml등에서 상수로 만들어준다.\n",
    "from selenium.webdriver.common.keys import Keys\n",
    "from urllib.request import Request, urlopen\n",
    "# xpath를 이용해서 경로를 정한다고 하면 \n",
    "import os\n",
    "import shutil"
   ]
  },
  {
   "cell_type": "code",
   "execution_count": 3,
   "id": "bbab836f",
   "metadata": {},
   "outputs": [],
   "source": [
    "driver = webdriver.Chrome()\n",
    "driver.implicitly_wait(3) \n",
    "url = 'https://pixabay.com/ko/'\n",
    "driver.get(url)\n",
    "time.sleep(3)"
   ]
  },
  {
   "cell_type": "code",
   "execution_count": 4,
   "id": "89815d71",
   "metadata": {},
   "outputs": [
    {
     "name": "stdout",
     "output_type": "stream",
     "text": [
      "https://cdn.pixabay.com/photo/2023/05/28/09/23/south-tyrol-8023219_640.jpg\n"
     ]
    }
   ],
   "source": [
    "image_xpath = '/html/body/div[1]/div[1]/div[2]/div[1]/div[3]/div[1]/div[1]/div[1]/div/a/img'\n",
    "img_url = driver.find_element(By.XPATH, image_xpath).get_attribute('src')\n",
    "print(img_url)"
   ]
  },
  {
   "cell_type": "code",
   "execution_count": 12,
   "id": "fc23ec94",
   "metadata": {},
   "outputs": [],
   "source": [
    "image_byte = Request(img_url, headers={'User-Agent':'Mozilla/5.0 (Windows NT 10.0; Win64; x64)'})\n",
    "\n",
    "f = open('sea.jpg', 'wb')\n",
    "f.write(urlopen(image_byte).read())\n",
    "f.close()"
   ]
  },
  {
   "cell_type": "code",
   "execution_count": 35,
   "id": "3482da65",
   "metadata": {},
   "outputs": [],
   "source": [
    "# 여러개의 이미지 가져오기\n",
    "driver = webdriver.Chrome()\n",
    "driver.implicitly_wait(3) \n",
    "\n",
    "url = 'https://pixabay.com/ko/images/search/바다/'\n",
    "driver.get(url)\n",
    "time.sleep(3)\n",
    "\n",
    "image_area_path = '/html/body/div[1]/div[1]/div/div[2]/div[3]'\n",
    "image_area = driver.find_element(By.XPATH, image_area_path)\n",
    "image_elements = image_area.find_elements(By.TAG_NAME, 'img') #find_elements로 여러개를 찾는다.\n",
    "\n",
    "image = []\n",
    "for image_element in image_elements:\n",
    "    image_url = image_element.get_attribute('data-lazy-src')\n",
    "    if image_element.get_attribute('data-lazy-src') is None:\n",
    "        image_url = image_element.get_attribute('src')\n",
    "    image.append(image_url)"
   ]
  },
  {
   "cell_type": "code",
   "execution_count": 36,
   "id": "39c8a994",
   "metadata": {},
   "outputs": [
    {
     "name": "stdout",
     "output_type": "stream",
     "text": [
      "tree-736885_1280.jpg\n",
      "tree\n"
     ]
    }
   ],
   "source": [
    "print(image[0].split('/')[-1])\n",
    "print(image[0].split('/')[-1].split('-')[0])\n",
    "for i in range(len(image)):\n",
    "    image_byte = Request(image[i], headers={'User-Agent':'Mozilla/5.0 (Windows NT 10.0; Win64; x64)'})\n",
    "    f = open('{}.jpg'.format(image[i].split('/')[-1].split('-')[0]), 'wb')\n",
    "    f.write(urlopen(image_byte).read())\n",
    "    f.close()"
   ]
  },
  {
   "cell_type": "markdown",
   "id": "4f202b32",
   "metadata": {},
   "source": [
    "# 함수로 리팩토링하기\n",
    "* crawl_image(keyword, pages)"
   ]
  },
  {
   "cell_type": "code",
   "execution_count": 49,
   "id": "d1a63ec7",
   "metadata": {},
   "outputs": [
    {
     "data": {
      "text/plain": [
       "'C:\\\\Users\\\\Administrator\\\\Desktop\\\\crawling'"
      ]
     },
     "execution_count": 49,
     "metadata": {},
     "output_type": "execute_result"
    }
   ],
   "source": [
    "os.getcwd()"
   ]
  },
  {
   "cell_type": "code",
   "execution_count": 88,
   "id": "54450de4",
   "metadata": {},
   "outputs": [],
   "source": [
    "button_xpath = '/html/body/div[1]/div[1]/div/div[2]/div[4]/div[2]/a/span'\n",
    "def crawl_image(keyword,pages):\n",
    "    image = []\n",
    "    for j in range(1,pages+1):\n",
    "        url = f'https://pixabay.com/ko/images/search/{keyword}/?pagi={j}'\n",
    "        driver.get(url)\n",
    "        time.sleep(3)\n",
    "\n",
    "        image_area_path = '/html/body/div[1]/div[1]/div/div[2]/div[3]'\n",
    "        image_area = driver.find_element(By.XPATH, image_area_path)\n",
    "        image_elements = image_area.find_elements(By.TAG_NAME, 'img') #find_elements로 여러개를 찾는다.\n",
    "\n",
    "        for image_element in image_elements:\n",
    "            image_url = image_element.get_attribute('data-lazy-src')\n",
    "            if image_element.get_attribute('data-lazy-src') is None:\n",
    "                image_url = image_element.get_attribute('src')\n",
    "            image.append(image_url)\n",
    "        \n",
    "    return image\n",
    "    \n",
    "def crawl_and_save_image(keyword, pages):\n",
    "    image = crawl_image(keyword, pages)\n",
    "    if not os.path.exists(keyword):\n",
    "        os.mkdir(keyword)\n",
    "        \n",
    "    for i in range(len(image)):\n",
    "        image_byte = Request(image[i], headers={'User-Agent':'Mozilla/5.0 (Windows NT 10.0; Win64; x64)'})\n",
    "        f = open('{}/{}.jpg'.format(keyword, image[i].split('/')[-1].split('-')[0]), 'wb')\n",
    "        f.write(urlopen(image_byte).read())\n",
    "        f.close()"
   ]
  },
  {
   "cell_type": "code",
   "execution_count": 89,
   "id": "161995e5",
   "metadata": {
    "scrolled": false
   },
   "outputs": [],
   "source": [
    "driver = webdriver.Chrome()\n",
    "driver.implicitly_wait(3) \n",
    "crawl_and_save_image('푸딩', 3)"
   ]
  }
 ],
 "metadata": {
  "kernelspec": {
   "display_name": "Python 3 (ipykernel)",
   "language": "python",
   "name": "python3"
  },
  "language_info": {
   "codemirror_mode": {
    "name": "ipython",
    "version": 3
   },
   "file_extension": ".py",
   "mimetype": "text/x-python",
   "name": "python",
   "nbconvert_exporter": "python",
   "pygments_lexer": "ipython3",
   "version": "3.8.6"
  }
 },
 "nbformat": 4,
 "nbformat_minor": 5
}
