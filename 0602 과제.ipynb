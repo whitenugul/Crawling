{
 "cells": [
  {
   "cell_type": "code",
   "execution_count": 1,
   "id": "e8bdf06f",
   "metadata": {},
   "outputs": [],
   "source": [
    "import chromedriver_autoinstaller\n",
    "import time\n",
    "from selenium import webdriver\n",
    "from selenium.webdriver.common.by import By # xpath 혹은 xml등에서 상수로 만들어준다.\n",
    "from selenium.webdriver.common.keys import Keys\n",
    "from urllib.request import Request, urlopen\n",
    "# xpath를 이용해서 경로를 정한다고 하면 \n",
    "import os\n",
    "import shutil"
   ]
  },
  {
   "cell_type": "markdown",
   "id": "cf993932",
   "metadata": {},
   "source": [
    "# 과제1\n",
    "* 바나프레소 사이트에서 매장찾기로 간다\n",
    "* 매장 이름과 주소를 모두 크롤링 하여 엑셀에 저장한다."
   ]
  },
  {
   "cell_type": "code",
   "execution_count": 127,
   "id": "d78c1e8d",
   "metadata": {
    "scrolled": true
   },
   "outputs": [
    {
     "name": "stdout",
     "output_type": "stream",
     "text": [
      "[{'매장명': '가산디지털단지역점', '매장 주소': '서울시 금천구 가산동 60-3'}, {'매장명': '강남구청점', '매장 주소': '서울 강남구 청담동 45-4'}, {'매장명': '강남역사거리점', '매장 주소': '서울특별시 강남구 역삼동 820-10'}, {'매장명': '강남역점', '매장 주소': '서울 강남구 역삼동822-7'}, {'매장명': '강남점', '매장 주소': '서울 강남구 테헤란로4길 46 (역삼동 826-37) 쌍용 플래티넘, 1층'}, {'매장명': '강남효성점', '매장 주소': '서울 강남구 역삼동 825-24'}, {'매장명': '강동역점', '매장 주소': '서울 강동구 천호동 447'}, {'매장명': '거여역점', '매장 주소': '서울특별시 송파구 거여동 37-6'}, {'매장명': '건대역점', '매장 주소': '서울 광진구 아차산로 221 (화양동 7-4)'}, {'매장명': '경희대점', '매장 주소': '서울 동대문구 경희대로4길 1'}, {'매장명': '가산디지털단지역점', '매장 주소': '서울시 금천구 가산동 60-3'}, {'매장명': '강남구청점', '매장 주소': '서울 강남구 청담동 45-4'}, {'매장명': '강남역사거리점', '매장 주소': '서울특별시 강남구 역삼동 820-10'}, {'매장명': '강남역점', '매장 주소': '서울 강남구 역삼동822-7'}, {'매장명': '강남점', '매장 주소': '서울 강남구 테헤란로4길 46 (역삼동 826-37) 쌍용 플래티넘, 1층'}, {'매장명': '강남효성점', '매장 주소': '서울 강남구 역삼동 825-24'}, {'매장명': '강동역점', '매장 주소': '서울 강동구 천호동 447'}, {'매장명': '거여역점', '매장 주소': '서울특별시 송파구 거여동 37-6'}, {'매장명': '건대역점', '매장 주소': '서울 광진구 아차산로 221 (화양동 7-4)'}, {'매장명': '경희대점', '매장 주소': '서울 동대문구 경희대로4길 1'}, {'매장명': '광명하안점', '매장 주소': '광명시 하안동 36-2'}, {'매장명': '교대사거리점', '매장 주소': '서울 서초구 서초동 1598-1'}, {'매장명': '교대역점', '매장 주소': '서울 서초구 반포대로30길 82'}, {'매장명': '교대점', '매장 주소': '서울 서초구 서초대로54길 27, 1층'}, {'매장명': '교육개발원사거리점', '매장 주소': '서울 서초구 강남대로27길 7-21 1층'}, {'매장명': '구로비즈메트로점', '매장 주소': '서울시 구로구 구로동 851번지 한화비즈메트로1차 109호'}, {'매장명': '구로지플러스점', '매장 주소': '서울시 구로구 구로동 222-31'}, {'매장명': '국기원사거리점', '매장 주소': '서울 강남구 테헤란로8길 26 (역삼동827-48)'}, {'매장명': '군포첨단산업단지점', '매장 주소': '경기도 군포시 부곡동 1244-4 1층'}, {'매장명': '길동역점', '매장 주소': '서울 강동구 양재대로 1490 (길동 366-5)'}, {'매장명': '김포구래점', '매장 주소': '경기도 김포시 구래동 6883-10 103호'}, {'매장명': '낙성대역점', '매장 주소': '서울시 관악구 봉천동 1658-19'}, {'매장명': '남대문점', '매장 주소': '서울 중구 세종대로 15 남대문5가 6-7'}, {'매장명': '남부터미널점', '매장 주소': '서울 서초구 효령로57길 1'}, {'매장명': '답십리역점', '매장 주소': '서울특별시 동대문구 천호대로 289, 한일노벨리아 104호'}, {'매장명': '대치선릉점', '매장 주소': '서울특별시 강남구 대치동 890-45'}, {'매장명': '대치역점', '매장 주소': '서울 강남구 대치동 507'}, {'매장명': '대치은마점', '매장 주소': '서울 강남구 도곡로 451 (대치동 941-22) 한나빌딩, 1층'}, {'매장명': '대치점', '매장 주소': '서울 강남구 테헤란로 84길 14 (대치동 942-19), 1층'}, {'매장명': '대치포스코점', '매장 주소': '서울 강남구 테헤란로78길 16 (대치동 891-44) 노벨빌딩 증축동, 1층/2층'}, {'매장명': '도곡역점', '매장 주소': '서울특별시 강남구 남부순환로 2909 여천빌딩'}, {'매장명': '독도점', '매장 주소': '경상북도 울릉군 울릉읍 독도리 산 1-96'}, {'매장명': '뚝섬역점', '매장 주소': '서울시 성동구 성수동1가 13-164'}, {'매장명': '무교점', '매장 주소': '서울특별시 중구 다동 155'}, {'매장명': '문정역점', '매장 주소': '서울 송파구 법원로128 (문정동642-3, SKV1빌딩 1층)'}, {'매장명': '미아사거리역점', '매장 주소': '서울시 강북구 미아동 60-5'}, {'매장명': '방배역점', '매장 주소': '서울시 서초구 방배동 909-8'}, {'매장명': '범계역점', '매장 주소': '경기도 안양시 동안구 호계동 1045'}, {'매장명': '보라매역점', '매장 주소': '서울시 동작구 대방동 400-3'}, {'매장명': '분당서현점', '매장 주소': '경기도 성남시 분당구 서현동 268-6 101호'}, {'매장명': '서현CGV점', '매장 주소': '경기도 분당구 서현동 256'}, {'매장명': '선릉공원점', '매장 주소': '서울 강남구 삼성동 142-46'}, {'매장명': '선릉역사거리점', '매장 주소': '서울 강남구 역삼동 705-19'}, {'매장명': '선릉역점', '매장 주소': '서울 강남구 테헤란로51길 7 (역삼동702-30)'}, {'매장명': '선릉위워크점', '매장 주소': '서울특별시 강남구 대치동 889-41'}, {'매장명': '선릉점', '매장 주소': '서울 강남구 언주로 98길 26 (역삼동 700-35), 1층'}, {'매장명': '선정릉점', '매장 주소': '서울 강남구 선릉로 577 (역삼동 682-20) POS TOWER, 1층'}, {'매장명': '세관사거리점', '매장 주소': '서울 강남구 언주로 702 (논현동115-13)'}, {'매장명': '속초중앙로점', '매장 주소': '강원도 속초시 중앙로 123-2'}, {'매장명': '수내역점', '매장 주소': '주소 경기 성남시 분당구 수내로46번길 26'}, {'매장명': '서현CGV점', '매장 주소': '경기도 분당구 서현동 256'}, {'매장명': '선릉공원점', '매장 주소': '서울 강남구 삼성동 142-46'}, {'매장명': '선릉역사거리점', '매장 주소': '서울 강남구 역삼동 705-19'}, {'매장명': '선릉역점', '매장 주소': '서울 강남구 테헤란로51길 7 (역삼동702-30)'}, {'매장명': '선릉위워크점', '매장 주소': '서울특별시 강남구 대치동 889-41'}, {'매장명': '선릉점', '매장 주소': '서울 강남구 언주로 98길 26 (역삼동 700-35), 1층'}, {'매장명': '선정릉점', '매장 주소': '서울 강남구 선릉로 577 (역삼동 682-20) POS TOWER, 1층'}, {'매장명': '세관사거리점', '매장 주소': '서울 강남구 언주로 702 (논현동115-13)'}, {'매장명': '속초중앙로점', '매장 주소': '강원도 속초시 중앙로 123-2'}, {'매장명': '수내역점', '매장 주소': '주소 경기 성남시 분당구 수내로46번길 26'}, {'매장명': '수송미장점', '매장 주소': '전라북도 군산시 수송동로 53, 1층'}, {'매장명': '수원시청역점', '매장 주소': '경기도 수원시 팔달구 인계동 1119'}, {'매장명': '수지성복점', '매장 주소': '경기도 용인시 수지구 성복2로 174, 상가동 104호'}, {'매장명': '숙대입구역점', '매장 주소': '서울특별시 용산구 갈월동 92 1층'}, {'매장명': '신논현역점', '매장 주소': '서울 서초구 서초동 1303-1'}, {'매장명': '신촌로터리점', '매장 주소': '서울특별시 마포구 노고산동 57-14'}, {'매장명': '신촌역점', '매장 주소': '서울 서대문구 신촌로 113 1층'}, {'매장명': '신촌점', '매장 주소': '서울시 서대문구 창천동 13-29'}, {'매장명': '약수역점', '매장 주소': '서울시 중구 신당동 369-9'}, {'매장명': '양재역점', '매장 주소': '서울 강남구 강남대로 240 (도곡동 953-1, 양재SK허브)'}, {'매장명': '양재이안점', '매장 주소': '서울특별시 서초구 강남대로34길 7, 1층'}, {'매장명': '양재점', '매장 주소': '서울 서초구 강남대로 221 (양재동 23)'}, {'매장명': '언주역점', '매장 주소': '서울시 강남구 역삼동 650'}, {'매장명': '여의도역점', '매장 주소': '서울특별시 영등포구 여의도동 26-1'}, {'매장명': '여의도KBS점', '매장 주소': '서울시 영등포구 여의도동 17번지 더샵아일랜드파크 102동 117호~118호'}, {'매장명': '역삼대로점', '매장 주소': '서울 강남구 논현로 427-1 (역삼동 738-27)'}, {'매장명': '역삼삼보점', '매장 주소': '서울특별시 강남구 역삼동 647-13'}, {'매장명': '역삼시티점', '매장 주소': '서울 강남구 논현로85길 52 B102호'}, {'매장명': '역삼역점', '매장 주소': '서울 강남구 강남대로 94길 95 (역삼동 644-19), 1층'}, {'매장명': '역삼초교사거리점', '매장 주소': '서울 강남구 역삼동829-17'}, {'매장명': '역삼GFC점', '매장 주소': '서울 강남구 테헤란로26길 10 (역삼동 736-55) 성보빌딩, 1층'}, {'매장명': '역삼GS점', '매장 주소': '서울 강남구 논현로 94길 13'}, {'매장명': '용인수지구청점', '매장 주소': '경기도 용인시 수지구 수지로296번길 51-7'}, {'매장명': '위례중앙점', '매장 주소': '서울특별시 송파구 위례광장로 120, 상가동 132호'}, {'매장명': '유성구청점', '매장 주소': '대전광역시 유성구 어은로 56, 지상1층'}, {'매장명': '을지병원사거리점', '매장 주소': '서울 강남구 논현동6-21'}, {'매장명': '이대점', '매장 주소': '서울 마포구 대현동 56-74'}, {'매장명': '인천동춘점', '매장 주소': '인천광역시 연수구 동춘동 936-1'}, {'매장명': '잠실새내점', '매장 주소': '서울 송파구 석촌호수로 64 (잠실동 208-16)'}, {'매장명': '종로구청점', '매장 주소': '서울특별시 종로구 종로3길 38'}, {'매장명': '한티역점', '매장 주소': '서울 강남구 선릉로311, 한티빌딩 1층'}, {'매장명': '합정역점', '매장 주소': '서울 마포구 양화로 72'}, {'매장명': '홍대입구역사거리점', '매장 주소': '서울 마포구 양화로 129'}, {'매장명': '회기역사거리점', '매장 주소': '서울 동대문구 회기로 176 (회기동81)'}, {'매장명': 'AK금정점', '매장 주소': '경기도 군포시 금정동 689번지 AK플라자 금정점 2층'}, {'매장명': '가산파트너스타워점', '매장 주소': ''}, {'매장명': '구로우림1차점', '매장 주소': ''}, {'매장명': '문정테라타워점', '매장 주소': '서울특별시 송파구 송파대로 167, 문정역테라타워 A동 G123호'}, {'매장명': '시흥은계점', '매장 주소': '경기도 시흥시 은계번영길 11,111호'}, {'매장명': '원주무실점', '매장 주소': ''}]\n",
      "110\n"
     ]
    }
   ],
   "source": [
    "from selenium.common.exceptions import WebDriverException\n",
    "import pandas as pd\n",
    "\n",
    "driver = webdriver.Chrome()\n",
    "driver.implicitly_wait(3) \n",
    "url = 'https://banapresso.com/store'\n",
    "driver.get(url)\n",
    "time.sleep(3)\n",
    "\n",
    "store_page_xpath = '/html/body/div/div/div/div/article/div/section/div/div[1]/div[3]/span'\n",
    "next_page = driver.find_element(By.XPATH, store_page_xpath)\n",
    "store = []\n",
    "\n",
    "while True:\n",
    "    pages = driver.find_elements(By.XPATH, '/html/body/div/div/div/div/article/div/section/div/div[1]/div[3]/ul/li')\n",
    "    for page in pages:\n",
    "        store_xpath = '/html/body/div/div/div/div/article/div/section/div/div[1]/div[2]/ul/li'\n",
    "        li_elements = driver.find_elements(By.XPATH, store_xpath)\n",
    "        for li_element in li_elements:\n",
    "            store_name_element = li_element.find_element(By.XPATH, './a/span/i')\n",
    "            store_address_element = li_element.find_element(By.XPATH, './a/span/span')\n",
    "            store_name = store_name_element.text\n",
    "            store_address = store_address_element.text\n",
    "            store.append({\"매장명\": store_name, \"매장 주소\": store_address})\n",
    "        page.click()\n",
    "        time.sleep(3)\n",
    "    try:\n",
    "        next_page.click()\n",
    "        time.sleep(5)\n",
    "    except WebDriverException:\n",
    "        print(store)\n",
    "        print(len(store))\n",
    "        df = pd.DataFrame(store)\n",
    "        df.to_excel('banapresso_store.xlsx')\n",
    "        break\n"
   ]
  },
  {
   "cell_type": "markdown",
   "id": "68b1f801",
   "metadata": {},
   "source": [
    "# 과제 2\n",
    "* 쇼핑몰 하나 선정하여 카테고리를 정해 크롤링하고 해당 카테고리 사진을 폴더로 정리하기\n",
    "* mysql에 테이블을 만들고 카테고리와 파일 경로를 저장해준다."
   ]
  },
  {
   "cell_type": "code",
   "execution_count": 159,
   "id": "94032015",
   "metadata": {},
   "outputs": [],
   "source": [
    "driver = webdriver.Chrome()\n",
    "driver.implicitly_wait(3) \n",
    "url = \"https://www.coupang.com/np/categories/195291\"\n",
    "driver.get(url)\n",
    "time.sleep(3)"
   ]
  },
  {
   "cell_type": "code",
   "execution_count": 160,
   "id": "951f9d32",
   "metadata": {},
   "outputs": [],
   "source": [
    "image_area_path = '/html/body/div[3]/section/form/div/div/div[1]/div/ul'\n",
    "\n",
    "image_area = driver.find_element(By.XPATH, image_area_path)\n",
    "image_elements = image_area.find_elements(By.TAG_NAME, 'img')\n",
    "\n",
    "image = []\n",
    "for image_element in image_elements:\n",
    "    image_url = image_element.get_attribute('src')\n",
    "    image.append(image_url)"
   ]
  },
  {
   "cell_type": "code",
   "execution_count": 161,
   "id": "edac89b5",
   "metadata": {},
   "outputs": [],
   "source": [
    "if not os.path.exists('coupang_cookie'):\n",
    "    os.mkdir('coupang_cookie')\n",
    "\n",
    "for i in range(len(image)):\n",
    "    image_byte = Request(image[i], headers={'User-Agent':'Mozilla/5.0 (Windows NT 10.0; Win64; x64)'})\n",
    "    f = open('{}/{}.jpg'.format('coupang_cookie', image[i].split('/')[-1].split('-')[0]), 'wb')\n",
    "    f.write(urlopen(image_byte).read())\n",
    "    f.close()"
   ]
  },
  {
   "cell_type": "code",
   "execution_count": 162,
   "id": "55f93e5c",
   "metadata": {},
   "outputs": [],
   "source": [
    "driver = webdriver.Chrome()\n",
    "driver.implicitly_wait(3) \n",
    "url = \"https://www.coupang.com/np/categories/195297\"\n",
    "driver.get(url)\n",
    "time.sleep(3)"
   ]
  },
  {
   "cell_type": "code",
   "execution_count": 163,
   "id": "8d652d1b",
   "metadata": {},
   "outputs": [],
   "source": [
    "image_area_path = '/html/body/div[3]/section/form/div/div/div[1]/div[2]/ul'"
   ]
  },
  {
   "cell_type": "code",
   "execution_count": 164,
   "id": "b23301a5",
   "metadata": {},
   "outputs": [],
   "source": [
    "image_area = driver.find_element(By.XPATH, image_area_path)\n",
    "image_elements = image_area.find_elements(By.TAG_NAME, 'img')\n",
    "\n",
    "image = []\n",
    "for image_element in image_elements:\n",
    "    image_url = image_element.get_attribute('src')\n",
    "    image.append(image_url)"
   ]
  },
  {
   "cell_type": "code",
   "execution_count": 165,
   "id": "ee2e91a2",
   "metadata": {},
   "outputs": [],
   "source": [
    "if not os.path.exists('coupang_choco'):\n",
    "    os.mkdir('coupang_choco')\n",
    "\n",
    "for i in range(len(image)):\n",
    "    image_byte = Request(image[i], headers={'User-Agent':'Mozilla/5.0 (Windows NT 10.0; Win64; x64)'})\n",
    "    f = open('{}/{}.jpg'.format('coupang_choco', image[i].split('/')[-1].split('-')[0]), 'wb')\n",
    "    f.write(urlopen(image_byte).read())\n",
    "    f.close()"
   ]
  },
  {
   "cell_type": "code",
   "execution_count": 166,
   "id": "a1b919f6",
   "metadata": {},
   "outputs": [],
   "source": [
    "driver = webdriver.Chrome()\n",
    "driver.implicitly_wait(3) \n",
    "url = \"https://www.coupang.com/np/categories/195284\"\n",
    "driver.get(url)\n",
    "time.sleep(3)"
   ]
  },
  {
   "cell_type": "code",
   "execution_count": 167,
   "id": "5d0421a2",
   "metadata": {},
   "outputs": [],
   "source": [
    "image_area_path = '/html/body/div[3]/section/form/div/div/div[1]/div/ul'"
   ]
  },
  {
   "cell_type": "code",
   "execution_count": 168,
   "id": "0d887ab9",
   "metadata": {},
   "outputs": [],
   "source": [
    "image_area = driver.find_element(By.XPATH, image_area_path)\n",
    "image_elements = image_area.find_elements(By.TAG_NAME, 'img')\n",
    "\n",
    "image = []\n",
    "for image_element in image_elements:\n",
    "    image_url = image_element.get_attribute('src')\n",
    "    image.append(image_url)"
   ]
  },
  {
   "cell_type": "code",
   "execution_count": 169,
   "id": "ef29fbb4",
   "metadata": {},
   "outputs": [],
   "source": [
    "if not os.path.exists('coupang_biscuit'):\n",
    "    os.mkdir('coupang_biscuit')\n",
    "\n",
    "for i in range(len(image)):\n",
    "    image_byte = Request(image[i], headers={'User-Agent':'Mozilla/5.0 (Windows NT 10.0; Win64; x64)'})\n",
    "    f = open('{}/{}.jpg'.format('coupang_biscuit', image[i].split('/')[-1].split('-')[0]), 'wb')\n",
    "    f.write(urlopen(image_byte).read())\n",
    "    f.close()"
   ]
  },
  {
   "cell_type": "code",
   "execution_count": 171,
   "id": "670e241c",
   "metadata": {},
   "outputs": [],
   "source": [
    "def get_coupang(url, path, folder_name):\n",
    "    driver = webdriver.Chrome()\n",
    "    driver.implicitly_wait(3) \n",
    "    driver.get(url)\n",
    "    time.sleep(3)\n",
    "    \n",
    "    image_area = driver.find_element(By.XPATH, path)\n",
    "    image_elements = image_area.find_elements(By.TAG_NAME, 'img')\n",
    "\n",
    "    image = []\n",
    "    for image_element in image_elements:\n",
    "        image_url = image_element.get_attribute('src')\n",
    "        image.append(image_url)\n",
    "    \n",
    "    if not os.path.exists(folder_name):\n",
    "        os.mkdir(folder_name)\n",
    "\n",
    "    for i in range(len(image)):\n",
    "        image_byte = Request(image[i], headers={'User-Agent':'Mozilla/5.0 (Windows NT 10.0; Win64; x64)'})\n",
    "        f = open('{}/{}.jpg'.format(folder_name, image[i].split('/')[-1].split('-')[0]), 'wb')\n",
    "        f.write(urlopen(image_byte).read())\n",
    "        f.close()"
   ]
  },
  {
   "cell_type": "code",
   "execution_count": 172,
   "id": "d1cc6559",
   "metadata": {},
   "outputs": [],
   "source": [
    "get_coupang(\"https://www.coupang.com/np/categories/195291\", '/html/body/div[3]/section/form/div/div/div[1]/div/ul', 'coupang_cookie')\n",
    "get_coupang(\"https://www.coupang.com/np/categories/195284\", '/html/body/div[3]/section/form/div/div/div[1]/div/ul', 'coupang_biscuit')\n",
    "get_coupang(\"https://www.coupang.com/np/categories/195297\", '/html/body/div[3]/section/form/div/div/div[1]/div[2]/ul', 'coupang_choco')"
   ]
  },
  {
   "cell_type": "code",
   "execution_count": null,
   "id": "4b8f6894",
   "metadata": {},
   "outputs": [],
   "source": []
  }
 ],
 "metadata": {
  "kernelspec": {
   "display_name": "Python 3 (ipykernel)",
   "language": "python",
   "name": "python3"
  },
  "language_info": {
   "codemirror_mode": {
    "name": "ipython",
    "version": 3
   },
   "file_extension": ".py",
   "mimetype": "text/x-python",
   "name": "python",
   "nbconvert_exporter": "python",
   "pygments_lexer": "ipython3",
   "version": "3.8.6"
  }
 },
 "nbformat": 4,
 "nbformat_minor": 5
}
