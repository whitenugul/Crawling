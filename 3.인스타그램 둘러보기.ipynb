{
 "cells": [
  {
   "cell_type": "markdown",
   "id": "a6a7bd02",
   "metadata": {},
   "source": [
    "# 1. 인스타그램 로그인"
   ]
  },
  {
   "cell_type": "code",
   "execution_count": 21,
   "id": "278585e9",
   "metadata": {},
   "outputs": [],
   "source": [
    "import chromedriver_autoinstaller\n",
    "import time\n",
    "from selenium import webdriver\n",
    "from selenium.webdriver.common.by import By # xpath 혹은 xml등에서 상수로 만들어준다.\n",
    "from selenium.webdriver.common.keys import Keys\n",
    "# xpath를 이용해서 경로를 정한다고 하면 "
   ]
  },
  {
   "cell_type": "code",
   "execution_count": 59,
   "id": "4b1e29d7",
   "metadata": {},
   "outputs": [],
   "source": [
    "driver = webdriver.Chrome()"
   ]
  },
  {
   "cell_type": "code",
   "execution_count": 60,
   "id": "42e70fac",
   "metadata": {},
   "outputs": [],
   "source": [
    "driver.implicitly_wait(3) # 완벽하게 로드 되지 않았을 경우 3초 정도는 기다려 준다.\n",
    "# 이것을 하는 이유: 인스타그램은 바로 바로 로드되는 정적인 사이트가 아니기 때문이다.\n",
    "\n",
    "url = 'https://www.instagram.com/'\n",
    "driver.get(url)"
   ]
  },
  {
   "cell_type": "code",
   "execution_count": 27,
   "id": "04bd11bf",
   "metadata": {},
   "outputs": [],
   "source": [
    "id = 'andrewahn2@naver.com'\n",
    "pw = 'dudwns00*'\n",
    "\n",
    "\n",
    "#id xpath: /html/body/div[2]/div/div/div[1]/div/div/div/div[1]/section/main/article/div[2]/div[1]/div[2]/form/div/div[1]/div/label/input\n",
    "input_id = driver.find_element(By.XPATH, '/html/body/div[2]/div/div/div[1]/div/div/div/div[1]/section/main/article/div[2]/div[1]/div[2]/form/div/div[1]/div/label/input')\n",
    "\n",
    "# pw xpath: /html/body/div[2]/div/div/div[1]/div/div/div/div[1]/section/main/article/div[2]/div[1]/div[2]/form/div/div[2]/div/label/input\n",
    "input_pw = driver.find_element(By.XPATH, '/html/body/div[2]/div/div/div[1]/div/div/div/div[1]/section/main/article/div[2]/div[1]/div[2]/form/div/div[2]/div/label/input')\n",
    "\n",
    "input_id.send_keys(id)\n",
    "input_pw.send_keys(pw)\n",
    "\n",
    "# 로그인 버튼: /html/body/div[2]/div/div/div[1]/div/div/div/div[1]/section/main/article/div[2]/div[1]/div[2]/form/div/div[3]/button/div\n",
    "driver.find_element(By.XPATH, '/html/body/div[2]/div/div/div[1]/div/div/div/div[1]/section/main/article/div[2]/div[1]/div[2]/form/div/div[3]/button/div').click()\n",
    "\n",
    "time.sleep(5)"
   ]
  },
  {
   "cell_type": "markdown",
   "id": "2d218548",
   "metadata": {},
   "source": [
    "# 2. 해시태그 검색"
   ]
  },
  {
   "cell_type": "code",
   "execution_count": 28,
   "id": "a9c09c45",
   "metadata": {},
   "outputs": [],
   "source": [
    "hashtag = '술스타그램'\n",
    "url = f'https://www.instagram.com/explore/tags/{hashtag}/'\n",
    "driver.get(url)\n",
    "time.sleep(5)"
   ]
  },
  {
   "cell_type": "markdown",
   "id": "a3751990",
   "metadata": {},
   "source": [
    "# 3. 스크롤 내리기"
   ]
  },
  {
   "cell_type": "code",
   "execution_count": 29,
   "id": "6f592a16",
   "metadata": {},
   "outputs": [],
   "source": [
    "for _ in range(5): # 스크롤 내리기\n",
    "    driver.execute_script('window.scrollTo(0, document.body.scrollHeight)') # javascript 명령어를 입력하면 적용이 된다.\n",
    "    time.sleep(5)"
   ]
  },
  {
   "cell_type": "markdown",
   "id": "638cb495",
   "metadata": {},
   "source": [
    "# 4. 원하는 사진 클릭하기"
   ]
  },
  {
   "cell_type": "code",
   "execution_count": 32,
   "id": "cf41b8b2",
   "metadata": {},
   "outputs": [],
   "source": [
    "xpath = '/html/body/div[2]/div/div/div[2]/div/div/div/div[1]/div[1]/div[2]/section/main/article/div[2]/div/div[10]/div[1]/a'\n",
    "\n",
    "driver.find_element(By.XPATH, xpath).click()\n",
    "time.sleep(3)"
   ]
  },
  {
   "cell_type": "markdown",
   "id": "d3432f9d",
   "metadata": {},
   "source": [
    "# 5. 좋아요 누르기"
   ]
  },
  {
   "cell_type": "code",
   "execution_count": 35,
   "id": "c183a038",
   "metadata": {},
   "outputs": [],
   "source": [
    "button_xpath = '/html/body/div[2]/div/div/div[3]/div/div/div[1]/div/div[3]/div/div/div/div/div[2]/div/article/div/div[2]/div/div/div[2]/section[1]/span[1]/button'\n",
    "\n",
    "driver.find_element(By.XPATH, button_xpath).click()\n",
    "time.sleep(1)"
   ]
  },
  {
   "cell_type": "markdown",
   "id": "b84d48b9",
   "metadata": {},
   "source": [
    "# 6. 댓글 달기"
   ]
  },
  {
   "cell_type": "code",
   "execution_count": 36,
   "id": "24929927",
   "metadata": {},
   "outputs": [],
   "source": [
    "comment = '정말 맛있어 보여요'\n",
    "comment_xpath = '/html/body/div[2]/div/div/div[3]/div/div/div[1]/div/div[3]/div/div/div/div/div[2]/div/article/div/div[2]/div/div/div[2]/section[3]/div/form/div/textarea'\n",
    "driver.find_element(By.XPATH, comment_xpath).click()\n",
    "driver.find_element(By.XPATH, comment_xpath).send_keys(comment)\n",
    "time.sleep(3)"
   ]
  },
  {
   "cell_type": "code",
   "execution_count": 37,
   "id": "b19d28dc",
   "metadata": {},
   "outputs": [],
   "source": [
    "send_button_xpath = '/html/body/div[2]/div/div/div[3]/div/div/div[1]/div/div[3]/div/div/div/div/div[2]/div/article/div/div[2]/div/div/div[2]/section[3]/div/form/div/div[2]/div'\n",
    "driver.find_element(By.XPATH, send_button_xpath).click()\n",
    "time.sleep(3)"
   ]
  },
  {
   "cell_type": "markdown",
   "id": "571364d4",
   "metadata": {},
   "source": [
    "# 7.다음 버튼 누르기"
   ]
  },
  {
   "cell_type": "code",
   "execution_count": 39,
   "id": "9d6a4d26",
   "metadata": {},
   "outputs": [],
   "source": [
    "next_xpath = '/html/body/div[2]/div/div/div[3]/div/div/div[1]/div/div[3]/div/div/div/div/div[1]/div/div/div[2]/button/div/span'\n",
    "driver.find_element(By.XPATH, next_xpath).click()\n",
    "time.sleep(3)"
   ]
  },
  {
   "cell_type": "markdown",
   "id": "381cc3b6",
   "metadata": {},
   "source": [
    "# 8. 함수로 리팩토링"
   ]
  },
  {
   "cell_type": "code",
   "execution_count": 55,
   "id": "c32dac90",
   "metadata": {},
   "outputs": [],
   "source": [
    "# 로그인\n",
    "def login_instagram(id, pw):\n",
    "    input_id = driver.find_element(By.XPATH, '/html/body/div[2]/div/div/div[1]/div/div/div/div[1]/section/main/article/div[2]/div[1]/div[2]/form/div/div[1]/div/label/input')\n",
    "    input_pw = driver.find_element(By.XPATH, '/html/body/div[2]/div/div/div[1]/div/div/div/div[1]/section/main/article/div[2]/div[1]/div[2]/form/div/div[2]/div/label/input')\n",
    "    input_id.send_keys(id)\n",
    "    input_pw.send_keys(pw)\n",
    "    driver.find_element(By.XPATH, '/html/body/div[2]/div/div/div[1]/div/div/div/div[1]/section/main/article/div[2]/div[1]/div[2]/form/div/div[3]/button/div').click()\n",
    "    time.sleep(5)\n",
    "    \n",
    "# 해시태그 검색\n",
    "def hashtag(hashtag, scroll_num):\n",
    "    url = f'https://www.instagram.com/explore/tags/{hashtag}/'\n",
    "    driver.get(url)\n",
    "    time.sleep(5)\n",
    "    \n",
    "    for _ in range(scroll_num): # 스크롤 내리기\n",
    "        driver.execute_script('window.scrollTo(0, document.body.scrollHeight)') # javascript 명령어를 입력하면 적용이 된다.\n",
    "        time.sleep(5)\n",
    "\n",
    "# 좋아요 및 댓글 달기(어떤 사진을 선택할지 index, 댓글, 반복에 대한 숫자)\n",
    "def click_photo(num_1, num_2):\n",
    "    photo_xpath = f'/html/body/div[2]/div/div/div[2]/div/div/div/div[1]/div[1]/div[2]/section/main/article/div[2]/div/div[{num_1}]/div[{num_2}]/a'\n",
    "    driver.find_element(By.XPATH, photo_xpath).click()\n",
    "    time.sleep(3)\n",
    "    \n",
    "def click_like():\n",
    "    button_xpath = '/html/body/div[2]/div/div/div[3]/div/div/div[1]/div/div[3]/div/div/div/div/div[2]/div/article/div/div[2]/div/div/div[2]/section[1]/span[1]/button'\n",
    "    driver.find_element(By.XPATH, button_xpath).click()\n",
    "    time.sleep(1)\n",
    "    \n",
    "def add_comment(comment):\n",
    "    comment_xpath = '/html/body/div[2]/div/div/div[3]/div/div/div[1]/div/div[3]/div/div/div/div/div[2]/div/article/div/div[2]/div/div/div[2]/section[3]/div/form/div/textarea'\n",
    "    driver.find_element(By.XPATH, comment_xpath).click()\n",
    "    driver.find_element(By.XPATH, comment_xpath).send_keys(comment)\n",
    "    time.sleep(3)\n",
    "    send_button_xpath = '/html/body/div[2]/div/div/div[3]/div/div/div[1]/div/div[3]/div/div/div/div/div[2]/div/article/div/div[2]/div/div/div[2]/section[3]/div/form/div/div[2]/div'\n",
    "    driver.find_element(By.XPATH, send_button_xpath).click()\n",
    "    time.sleep(3)\n",
    "    \n",
    "def next_page(count):\n",
    "    next_xpath = '/html/body/div[2]/div/div/div[3]/div/div/div[1]/div/div[3]/div/div/div/div/div[1]/div/div/div[2]/button/div/span'\n",
    "    for _ in range(count):\n",
    "        driver.find_element(By.XPATH, next_xpath).click()\n",
    "        time.sleep(3)"
   ]
  },
  {
   "cell_type": "code",
   "execution_count": 61,
   "id": "4a69fd0e",
   "metadata": {
    "scrolled": true
   },
   "outputs": [],
   "source": [
    "id = 'andrewahn2@naver.com'\n",
    "pw = 'dudwns00*'\n",
    "login_instagram(id, pw)"
   ]
  },
  {
   "cell_type": "code",
   "execution_count": 62,
   "id": "c54b3605",
   "metadata": {},
   "outputs": [],
   "source": [
    "hashtag('족발', 5)"
   ]
  },
  {
   "cell_type": "code",
   "execution_count": 64,
   "id": "e32ca448",
   "metadata": {},
   "outputs": [],
   "source": [
    "click_photo(4,1)\n",
    "# /html/body/div[2]/div/div/div[2]/div/div/div/div[1]/div[1]/div[2]/section/main/article/div[2]/div/div[5]/div[2]/a/div[2]\n",
    "# /html/body/div[2]/div/div/div[2]/div/div/div/div[1]/div[1]/div[2]/section/main/article/div[2]/div/div[4]/div[1]/a/div[2]"
   ]
  },
  {
   "cell_type": "code",
   "execution_count": 54,
   "id": "471b7bff",
   "metadata": {},
   "outputs": [],
   "source": [
    "click_like()"
   ]
  },
  {
   "cell_type": "code",
   "execution_count": 56,
   "id": "9a5dd2c3",
   "metadata": {},
   "outputs": [],
   "source": [
    "next_page(5)"
   ]
  },
  {
   "cell_type": "code",
   "execution_count": null,
   "id": "5dfccc44",
   "metadata": {},
   "outputs": [],
   "source": [
    "# 로그인\n",
    "def login(id, pw):\n",
    "    input_id = driver.find_element(By.XPATH, '/html/body/div[2]/div/div/div[1]/div/div/div/div[1]/section/main/article/div[2]/div[1]/div[2]/form/div/div[1]/div/label/input')\n",
    "    input_pw = driver.find_element(By.XPATH, '/html/body/div[2]/div/div/div[1]/div/div/div/div[1]/section/main/article/div[2]/div[1]/div[2]/form/div/div[2]/div/label/input')\n",
    "    input_id.send_keys(id)\n",
    "    input_pw.send_keys(pw)\n",
    "    driver.find_element(By.XPATH, '/html/body/div[2]/div/div/div[1]/div/div/div/div[1]/section/main/article/div[2]/div[1]/div[2]/form/div/div[3]/button').click()\n",
    "# 해시태그 검색\n",
    "def search(hashtag, scroll_times):\n",
    "    url = f'https://www.instagram.com/explore/tags/{hashtag}/'\n",
    "    driver.get(url)\n",
    "    time.sleep(5)\n",
    "    for _ in range(scroll_times):\n",
    "        driver.execute_script('window.scrollTo(0, document.body.scrollHeight)')\n",
    "        time.sleep(5)\n",
    "# 좋아요 및 댓글달기(어떤사진을 선택할지 index, 댓글, 반복숫자)\n",
    "def like_and_comment(nth, comment, repeat=1):\n",
    "    row = (nth-1) // 3 + 1\n",
    "    col = (nth-1) % 3 + 1\n",
    "    xpath = f'/html/body/div[2]/div/div/div[2]/div/div/div/div[1]/div[1]/div[2]/section/main/article/div[2]/div/div[{row}]/div[{col}]/a/div'\n",
    "    driver.find_element(By.XPATH, xpath).click()\n",
    "    time.sleep(3)\n",
    "    for i in range(repeat):\n",
    "        like_xpath = '/html/body/div[2]/div/div/div[3]/div/div/div[1]/div/div[3]/div/div/div/div/div[2]/div/article/div/div[2]/div/div/div[2]/section[1]/span[1]/button'\n",
    "        driver.find_element(By.XPATH, like_xpath).click()\n",
    "        time.sleep(2)\n",
    "        comment_xpath = '/html/body/div[2]/div/div/div[3]/div/div/div[1]/div/div[3]/div/div/div/div/div[2]/div/article/div/div[2]/div/div/div[2]/section[3]/div/form/div/textarea'\n",
    "        driver.find_element(By.XPATH, comment_xpath).click()\n",
    "        driver.find_element(By.XPATH, comment_xpath).send_keys(comment)\n",
    "        time.sleep(3)\n",
    "        send_xpath = '/html/body/div[2]/div/div/div[3]/div/div/div[1]/div/div[3]/div/div/div/div/div[2]/div/article/div/div[2]/div/div/div[2]/section[3]/div/form/div/div[2]/div'\n",
    "        driver.find_element(By.XPATH, send_xpath).click()\n",
    "        time.sleep(3)\n",
    "        if i+1 < repeat:\n",
    "            next_xpath = '/html/body/div[2]/div/div/div[3]/div/div/div[1]/div/div[3]/div/div/div/div/div[1]/div/div/div[2]/button'\n",
    "            driver.find_element(By.XPATH, next_xpath).click()\n",
    "            time.sleep(3)\n",
    "\n",
    "driver = webdriver.Chrome()\n",
    "driver.implicitly_wait(3)\n",
    "url = 'https://www.instagram.com/'\n",
    "driver.get(url)\n",
    "id = 'ryuzy@naver.com'\n",
    "pw = 'dbwjddnjs!))$'\n",
    "login(id, pw)\n",
    "time.sleep(5)\n",
    "hashtag = '술스타그램'\n",
    "search(hashtag, 3)\n",
    "time.sleep(5)\n",
    "like_and_comment(7, '잘 보고 갑니다! 휘리릭~', 3) "
   ]
  }
 ],
 "metadata": {
  "kernelspec": {
   "display_name": "Python 3 (ipykernel)",
   "language": "python",
   "name": "python3"
  },
  "language_info": {
   "codemirror_mode": {
    "name": "ipython",
    "version": 3
   },
   "file_extension": ".py",
   "mimetype": "text/x-python",
   "name": "python",
   "nbconvert_exporter": "python",
   "pygments_lexer": "ipython3",
   "version": "3.8.6"
  }
 },
 "nbformat": 4,
 "nbformat_minor": 5
}
